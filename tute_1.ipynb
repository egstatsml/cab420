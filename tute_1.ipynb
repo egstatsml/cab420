{
 "cells": [
  {
   "cell_type": "markdown",
   "metadata": {
    "ein.tags": "worksheet-0",
    "slideshow": {
     "slide_type": "-"
    }
   },
   "source": [
    "# Tute 1 - Filtering data and Regularised Regression\n",
    "\n",
    "Go through the tute with Python\n",
    "\n",
    "## NOTE:\n",
    "If you followed along with the code from the tute, not that this code has been updated\n",
    "to correct a few errors, mainly with how the date formatted for the BCC data.\n",
    "\n",
    "Main lesson is don't assume anything (including that Pandas will infer the date format correctly; learn from my mistakes :) )"
   ]
  },
  {
   "cell_type": "code",
   "execution_count": 1,
   "metadata": {
    "autoscroll": false,
    "collapsed": false,
    "ein.hycell": false,
    "ein.tags": "worksheet-0",
    "slideshow": {
     "slide_type": "-"
    }
   },
   "outputs": [],
   "source": [
    "# unlike MATLAB, core Python is limited to a few data types and built in methods\n",
    "# Thats ok though, because there is a tonne of open source packages that do\n",
    "# pretty much everything we need, we just need to import them\n",
    "\n",
    "# numpy handles pretty much anything that is a number/vector/matrix/array\n",
    "import numpy as np\n",
    "# pandas handles dataframes (exactly the same as tables in Matlab)\n",
    "import pandas as pd\n",
    "# matplotlib emulates Matlabs plotting functionality\n",
    "import matplotlib.pyplot as plt\n",
    "# stats models is a package that is going to perform the regression analysis\n",
    "from statsmodels import api as sm\n",
    "from scipy import stats\n",
    "from sklearn.metrics import mean_squared_error\n",
    "# os allows us to manipulate variables on out local machine, such as paths and environment variables\n",
    "import os\n",
    "# self explainatory, dates and times\n",
    "from datetime import datetime, date\n",
    "# a helper package to help us iterate over objects\n",
    "import itertools"
   ]
  },
  {
   "cell_type": "markdown",
   "metadata": {
    "ein.tags": "worksheet-0",
    "slideshow": {
     "slide_type": "-"
    }
   },
   "source": [
    "First step is to combine all of the data from the spreadsheets. Want to combine temperature, rainfall and solar data from the same date and have them all on the same row entry.\n",
    "Looking at one of the data sets, we see that the year, month and day are separated across different columns.\n",
    "Want to have a single column to allow us to compare dates. This function can be applied to each\n",
    "row in a dataframe using the built-in `apply()` method."
   ]
  },
  {
   "cell_type": "code",
   "execution_count": 2,
   "metadata": {
    "autoscroll": false,
    "collapsed": false,
    "ein.hycell": false,
    "ein.tags": "worksheet-0",
    "slideshow": {
     "slide_type": "-"
    }
   },
   "outputs": [],
   "source": [
    "# Create single datetime object from year, month and day\n",
    "def create_date(row):\n",
    "    # create string with date it format Y:m:d\n",
    "  return datetime.strptime('{:04d}/{:02d}/{:02d}'.format(row.Year, row.Month, row.Day),\n",
    "                           '%Y/%m/%d')"
   ]
  },
  {
   "cell_type": "code",
   "execution_count": 3,
   "metadata": {
    "autoscroll": false,
    "collapsed": false,
    "ein.hycell": false,
    "ein.tags": "worksheet-0",
    "slideshow": {
     "slide_type": "-"
    }
   },
   "outputs": [],
   "source": [
    "# Q1. Load in all the data\n",
    "def load_bom(root_dir='/home/ethan/cab420/tutes/cab420/tute1_data/BOM'):\n",
    "  \"\"\"load in the BOM data and concatenate it all\"\"\"\n",
    "  rain = pd.read_csv(os.path.join(root_dir, 'IDCJAC0009_040913_1800_Data.csv'))\n",
    "  temp = pd.read_csv(os.path.join(root_dir, 'IDCJAC0010_040913_1800_Data.csv'))\n",
    "  solar = pd.read_csv(os.path.join(root_dir, 'IDCJAC0016_040913_1800_Data.csv'))\n",
    "  \n",
    "  # want all the date ranges to be the same\n",
    "  rain = rain[(rain.Year >= 2014) & (rain.Year <= 2018)]\n",
    "  temp = temp[(temp.Year >= 2014) & (temp.Year <= 2018)]\n",
    "  solar = solar[(solar.Year >= 2014) & (solar.Year <= 2018)]\n",
    "  # create a datetime object for each row, and store it in the Date column\n",
    "  rain['Date'] = rain.apply(create_date, axis=1)\n",
    "  temp['Date'] = temp.apply(create_date, axis=1)\n",
    "  solar['Date'] = solar.apply(create_date, axis=1)\n",
    "  # now merge them all based on the date, so will create a single Date\n",
    "  # column that has them all in\n",
    "  bom_combined = pd.merge(rain, temp, on='Date')\n",
    "  bom_combined = pd.merge(bom_combined, solar, on='Date')\n",
    "  return bom_combined\n",
    "\n"
   ]
  },
  {
   "cell_type": "code",
   "execution_count": 3,
   "metadata": {
    "autoscroll": false,
    "collapsed": false,
    "ein.hycell": false,
    "ein.tags": "worksheet-0",
    "slideshow": {
     "slide_type": "-"
    }
   },
   "outputs": [],
   "source": []
  },
  {
   "cell_type": "code",
   "execution_count": 4,
   "metadata": {
    "autoscroll": false,
    "collapsed": false,
    "ein.hycell": false,
    "ein.tags": "worksheet-0",
    "slideshow": {
     "slide_type": "-"
    }
   },
   "outputs": [
    {
     "name": "stdout",
     "output_type": "stream",
     "text": [
      "  Product code_x  Bureau of Meteorology station number_x  Year_x  Month_x  \\\n",
      "0     IDCJAC0009                                   40913    2014        1   \n",
      "1     IDCJAC0009                                   40913    2014        1   \n",
      "2     IDCJAC0009                                   40913    2014        1   \n",
      "3     IDCJAC0009                                   40913    2014        1   \n",
      "4     IDCJAC0009                                   40913    2014        1   \n",
      "\n",
      "   Day_x  Rainfall amount (millimetres)  \\\n",
      "0      1                            0.0   \n",
      "1      2                            0.0   \n",
      "2      3                            1.0   \n",
      "3      4                            0.0   \n",
      "4      5                            0.0   \n",
      "\n",
      "   Period over which rainfall was measured (days) Quality_x       Date  \\\n",
      "0                                             1.0         N 2014-01-01   \n",
      "1                                             1.0         N 2014-01-02   \n",
      "2                                             1.0         N 2014-01-03   \n",
      "3                                             1.0         N 2014-01-04   \n",
      "4                                             1.0         N 2014-01-05   \n",
      "\n",
      "  Product code_y  ...  Day_y  Maximum temperature (Degree C)  \\\n",
      "0     IDCJAC0010  ...      1                            30.6   \n",
      "1     IDCJAC0010  ...      2                            31.8   \n",
      "2     IDCJAC0010  ...      3                            34.5   \n",
      "3     IDCJAC0010  ...      4                            38.7   \n",
      "4     IDCJAC0010  ...      5                            33.6   \n",
      "\n",
      "   Days of accumulation of maximum temperature  Quality_y  Product code  \\\n",
      "0                                          1.0          Y    IDCJAC0016   \n",
      "1                                          1.0          Y    IDCJAC0016   \n",
      "2                                          1.0          Y    IDCJAC0016   \n",
      "3                                          1.0          Y    IDCJAC0016   \n",
      "4                                          1.0          Y    IDCJAC0016   \n",
      "\n",
      "   Bureau of Meteorology station number  Year Month  Day  \\\n",
      "0                                 40913  2014     1    1   \n",
      "1                                 40913  2014     1    2   \n",
      "2                                 40913  2014     1    3   \n",
      "3                                 40913  2014     1    4   \n",
      "4                                 40913  2014     1    5   \n",
      "\n",
      "   Daily global solar exposure (MJ/m*m)  \n",
      "0                                  31.2  \n",
      "1                                  23.4  \n",
      "2                                  29.6  \n",
      "3                                  30.5  \n",
      "4                                  15.7  \n",
      "\n",
      "[5 rows x 23 columns]\n"
     ]
    }
   ],
   "source": [
    "# load it in, and then lets have a look at it to make sure it is all ok\n",
    "bom = load_bom()\n",
    "print(bom.head())"
   ]
  },
  {
   "cell_type": "code",
   "execution_count": 5,
   "metadata": {
    "autoscroll": false,
    "collapsed": false,
    "ein.hycell": false,
    "ein.tags": "worksheet-0",
    "slideshow": {
     "slide_type": "-"
    }
   },
   "outputs": [
    {
     "name": "stdout",
     "output_type": "stream",
     "text": [
      "['Product code_x' 'Bureau of Meteorology station number_x' 'Year_x'\n",
      " 'Month_x' 'Day_x' 'Rainfall amount (millimetres)'\n",
      " 'Period over which rainfall was measured (days)' 'Quality_x' 'Date'\n",
      " 'Product code_y' 'Bureau of Meteorology station number_y' 'Year_y'\n",
      " 'Month_y' 'Day_y' 'Maximum temperature (Degree C)'\n",
      " 'Days of accumulation of maximum temperature' 'Quality_y' 'Product code'\n",
      " 'Bureau of Meteorology station number' 'Year' 'Month' 'Day'\n",
      " 'Daily global solar exposure (MJ/m*m)']\n"
     ]
    }
   ],
   "source": [
    "# looks like there are some repeated columns (from the year/month/day)\n",
    "#lets get rid of those\n",
    "print(bom.columns.values)"
   ]
  },
  {
   "cell_type": "code",
   "execution_count": 6,
   "metadata": {
    "autoscroll": false,
    "collapsed": false,
    "ein.hycell": false,
    "ein.tags": "worksheet-0",
    "slideshow": {
     "slide_type": "-"
    }
   },
   "outputs": [
    {
     "data": {
      "text/html": [
       "<div>\n<style scoped>\n    .dataframe tbody tr th:only-of-type {\n        vertical-align: middle;\n    }\n\n    .dataframe tbody tr th {\n        vertical-align: top;\n    }\n\n    .dataframe thead th {\n        text-align: right;\n    }\n</style>\n<table border=\"1\" class=\"dataframe\">\n  <thead>\n    <tr style=\"text-align: right;\">\n      <th></th>\n      <th>Product code_x</th>\n      <th>Bureau of Meteorology station number_x</th>\n      <th>Rainfall amount (millimetres)</th>\n      <th>Period over which rainfall was measured (days)</th>\n      <th>Quality_x</th>\n      <th>Date</th>\n      <th>Product code_y</th>\n      <th>Bureau of Meteorology station number_y</th>\n      <th>Maximum temperature (Degree C)</th>\n      <th>Days of accumulation of maximum temperature</th>\n      <th>Quality_y</th>\n      <th>Product code</th>\n      <th>Bureau of Meteorology station number</th>\n      <th>Daily global solar exposure (MJ/m*m)</th>\n    </tr>\n  </thead>\n  <tbody>\n    <tr>\n      <th>0</th>\n      <td>IDCJAC0009</td>\n      <td>40913</td>\n      <td>0.0</td>\n      <td>1.0</td>\n      <td>N</td>\n      <td>2014-01-01</td>\n      <td>IDCJAC0010</td>\n      <td>40913</td>\n      <td>30.6</td>\n      <td>1.0</td>\n      <td>Y</td>\n      <td>IDCJAC0016</td>\n      <td>40913</td>\n      <td>31.2</td>\n    </tr>\n    <tr>\n      <th>1</th>\n      <td>IDCJAC0009</td>\n      <td>40913</td>\n      <td>0.0</td>\n      <td>1.0</td>\n      <td>N</td>\n      <td>2014-01-02</td>\n      <td>IDCJAC0010</td>\n      <td>40913</td>\n      <td>31.8</td>\n      <td>1.0</td>\n      <td>Y</td>\n      <td>IDCJAC0016</td>\n      <td>40913</td>\n      <td>23.4</td>\n    </tr>\n    <tr>\n      <th>2</th>\n      <td>IDCJAC0009</td>\n      <td>40913</td>\n      <td>1.0</td>\n      <td>1.0</td>\n      <td>N</td>\n      <td>2014-01-03</td>\n      <td>IDCJAC0010</td>\n      <td>40913</td>\n      <td>34.5</td>\n      <td>1.0</td>\n      <td>Y</td>\n      <td>IDCJAC0016</td>\n      <td>40913</td>\n      <td>29.6</td>\n    </tr>\n    <tr>\n      <th>3</th>\n      <td>IDCJAC0009</td>\n      <td>40913</td>\n      <td>0.0</td>\n      <td>1.0</td>\n      <td>N</td>\n      <td>2014-01-04</td>\n      <td>IDCJAC0010</td>\n      <td>40913</td>\n      <td>38.7</td>\n      <td>1.0</td>\n      <td>Y</td>\n      <td>IDCJAC0016</td>\n      <td>40913</td>\n      <td>30.5</td>\n    </tr>\n    <tr>\n      <th>4</th>\n      <td>IDCJAC0009</td>\n      <td>40913</td>\n      <td>0.0</td>\n      <td>1.0</td>\n      <td>N</td>\n      <td>2014-01-05</td>\n      <td>IDCJAC0010</td>\n      <td>40913</td>\n      <td>33.6</td>\n      <td>1.0</td>\n      <td>Y</td>\n      <td>IDCJAC0016</td>\n      <td>40913</td>\n      <td>15.7</td>\n    </tr>\n  </tbody>\n</table>\n</div>"
      ],
      "text/plain": [
       "  Product code_x  Bureau of Meteorology station number_x  \\\n0     IDCJAC0009                                   40913   \n1     IDCJAC0009                                   40913   \n2     IDCJAC0009                                   40913   \n3     IDCJAC0009                                   40913   \n4     IDCJAC0009                                   40913   \n\n   Rainfall amount (millimetres)  \\\n0                            0.0   \n1                            0.0   \n2                            1.0   \n3                            0.0   \n4                            0.0   \n\n   Period over which rainfall was measured (days) Quality_x       Date  \\\n0                                             1.0         N 2014-01-01   \n1                                             1.0         N 2014-01-02   \n2                                             1.0         N 2014-01-03   \n3                                             1.0         N 2014-01-04   \n4                                             1.0         N 2014-01-05   \n\n  Product code_y  Bureau of Meteorology station number_y  \\\n0     IDCJAC0010                                   40913   \n1     IDCJAC0010                                   40913   \n2     IDCJAC0010                                   40913   \n3     IDCJAC0010                                   40913   \n4     IDCJAC0010                                   40913   \n\n   Maximum temperature (Degree C)  \\\n0                            30.6   \n1                            31.8   \n2                            34.5   \n3                            38.7   \n4                            33.6   \n\n   Days of accumulation of maximum temperature Quality_y Product code  \\\n0                                          1.0         Y   IDCJAC0016   \n1                                          1.0         Y   IDCJAC0016   \n2                                          1.0         Y   IDCJAC0016   \n3                                          1.0         Y   IDCJAC0016   \n4                                          1.0         Y   IDCJAC0016   \n\n   Bureau of Meteorology station number  Daily global solar exposure (MJ/m*m)  \n0                                 40913                                  31.2  \n1                                 40913                                  23.4  \n2                                 40913                                  29.6  \n3                                 40913                                  30.5  \n4                                 40913                                  15.7  "
      ]
     },
     "execution_count": 6,
     "metadata": {},
     "output_type": "execute_result"
    }
   ],
   "source": [
    "bom = bom.drop(['Year', 'Month', 'Day',\n",
    "                'Year_x', 'Month_x', 'Day_x',\n",
    "                'Year_y', 'Month_y', 'Day_y'], axis=1)\n",
    "bom.head()"
   ]
  },
  {
   "cell_type": "code",
   "execution_count": 7,
   "metadata": {
    "autoscroll": false,
    "collapsed": false,
    "ein.hycell": false,
    "ein.tags": "worksheet-0",
    "slideshow": {
     "slide_type": "-"
    }
   },
   "outputs": [],
   "source": [
    "# now want to load in the BCC data and see which columns are available in all of\n",
    "# the different data sets\n",
    "def load_bcc(root_dir='/home/ethan/cab420/tutes/cab420/tute1_data/BCCCyclewayCounts'):\n",
    "  \"\"\"load in the BCC dataset and combine them\"\"\"\n",
    "  bcc_2014 = pd.read_csv(os.path.join(root_dir, 'bike-ped-auto-counts-2014.csv'))\n",
    "  bcc_2015 = pd.read_csv(os.path.join(root_dir, 'bike-ped-auto-counts-2015.csv'))\n",
    "  bcc_2016 = pd.read_csv(os.path.join(root_dir, 'bike-ped-auto-counts-2016.csv'))\n",
    "  bcc_2017 = pd.read_csv(os.path.join(root_dir, 'bike-ped-auto-counts-2017.csv'))\n",
    "  bcc_2018 = pd.read_csv(os.path.join(root_dir, 'bike-ped-auto-counts-2018.csv'))\n",
    "  # make sure the date is the correct format\n",
    "  # this is important, don't assume that Python or pandas will determine the\n",
    "  # format correctly for you (talking from experience, learn from my mistakes)\n",
    "  bcc_2014.Date = pd.to_datetime(bcc_2014.Date, format='%d/%m/%Y')\n",
    "  bcc_2015.Date = pd.to_datetime(bcc_2015.Date, format='%d/%m/%Y')\n",
    "  bcc_2016.Date = pd.to_datetime(bcc_2016.Date, format='%d/%m/%Y')\n",
    "  bcc_2017.Date = pd.to_datetime(bcc_2017.Date, format='%d/%m/%Y')\n",
    "  bcc_2018.Date = pd.to_datetime(bcc_2018.Date, format='%d/%m/%Y')\n",
    "  # lets get the column values, and see which are consistent across them all\n",
    "  # itertools is a helper module to help us convert the list of dataframe column\n",
    "  # values (a list of lists) to one big flattened out list.\n",
    "  # This flattened lists could have repeated entries\n",
    "  all_columns_repeated = list(itertools.chain(*(\n",
    "    bcc_2014.columns.values, bcc_2015.columns.values,\n",
    "    bcc_2016.columns.values, bcc_2017.columns.values,\n",
    "    bcc_2018.columns.values)))\n",
    "  # creating a set of these column values  will remove duplicates\n",
    "  all_columns = set(all_columns_repeated)\n",
    "  # now lets perform the intersection of this set with each set of the column\n",
    "  # values from each data set.\n",
    "  # this will tell us which columns are common to every data set\n",
    "  common_column = all_columns.intersection(bcc_2014.columns.values, bcc_2015.columns.values,\n",
    "                                           bcc_2016.columns.values, bcc_2017.columns.values,\n",
    "                                           bcc_2018.columns.values)\n",
    "  # now lets get just the common columns from each data frame, and then\n",
    "  # concatenate them all\n",
    "  bcc_2014 = bcc_2014[common_column]\n",
    "  bcc_2015 = bcc_2015[common_column]\n",
    "  bcc_2016 = bcc_2016[common_column]\n",
    "  bcc_2017 = bcc_2017[common_column]\n",
    "  bcc_2018 = bcc_2018[common_column]\n",
    "  # now concatenate them all (concat vertically)\n",
    "  bcc = pd.concat([bcc_2014, bcc_2015, bcc_2016,\n",
    "                   bcc_2017, bcc_2018])\n",
    "  return bcc\n"
   ]
  },
  {
   "cell_type": "code",
   "execution_count": 8,
   "metadata": {
    "autoscroll": false,
    "collapsed": false,
    "ein.hycell": false,
    "ein.tags": "worksheet-0",
    "slideshow": {
     "slide_type": "-"
    }
   },
   "outputs": [
    {
     "data": {
      "text/html": [
       "<div>\n<style scoped>\n    .dataframe tbody tr th:only-of-type {\n        vertical-align: middle;\n    }\n\n    .dataframe tbody tr th {\n        vertical-align: top;\n    }\n\n    .dataframe thead th {\n        text-align: right;\n    }\n</style>\n<table border=\"1\" class=\"dataframe\">\n  <thead>\n    <tr style=\"text-align: right;\">\n      <th></th>\n      <th>Story Bridge West Pedestrian Inbound</th>\n      <th>North Brisbane Bikeway Mann Park Windsor Pedestrian Outbound</th>\n      <th>Story Bridge East Pedestrian Outbound</th>\n      <th>Kedron Brook Bikeway Lutwyche</th>\n      <th>Bishop Street Cyclists Inbound</th>\n      <th>Granville Street Bridge Pedestrians Outbound</th>\n      <th>Kedron Brook Bikeway Lutwyche Cyclists Outbound</th>\n      <th>Ekibin Park Pedestrians Outbound</th>\n      <th>Ekibin Park Pedestrians Inbound</th>\n      <th>Bicentennial Bikeway Pedestrians Outbound</th>\n      <th>...</th>\n      <th>North Brisbane Bikeway Mann Park Windsor Pedestrian Inbound</th>\n      <th>Schulz Canal Bridge Pedestrians Outbound</th>\n      <th>Kedron Brook Bikeway Lutwyche Pedestrians Outbound</th>\n      <th>Riverwalk Cyclists Outbound</th>\n      <th>Story Bridge West Pedestrian Outbound</th>\n      <th>Kedron Brook Bikeway Mitchelton Pedestrian Inbound</th>\n      <th>North Brisbane Bikeway Mann Park Windsor Cyclists Inbound</th>\n      <th>Unnamed: 1</th>\n      <th>Jack Pesch Bridge Cyclists Outbound</th>\n      <th>Riverwalk Pedestrians Inbound</th>\n    </tr>\n  </thead>\n  <tbody>\n    <tr>\n      <th>0</th>\n      <td>0.0</td>\n      <td>NaN</td>\n      <td>0.0</td>\n      <td>NaN</td>\n      <td>NaN</td>\n      <td>NaN</td>\n      <td>NaN</td>\n      <td>NaN</td>\n      <td>NaN</td>\n      <td>1326.0</td>\n      <td>...</td>\n      <td>NaN</td>\n      <td>0.0</td>\n      <td>NaN</td>\n      <td>NaN</td>\n      <td>0.0</td>\n      <td>NaN</td>\n      <td>NaN</td>\n      <td>0:00</td>\n      <td>NaN</td>\n      <td>NaN</td>\n    </tr>\n    <tr>\n      <th>1</th>\n      <td>0.0</td>\n      <td>NaN</td>\n      <td>0.0</td>\n      <td>NaN</td>\n      <td>NaN</td>\n      <td>NaN</td>\n      <td>NaN</td>\n      <td>NaN</td>\n      <td>NaN</td>\n      <td>2133.0</td>\n      <td>...</td>\n      <td>NaN</td>\n      <td>28.0</td>\n      <td>NaN</td>\n      <td>NaN</td>\n      <td>0.0</td>\n      <td>NaN</td>\n      <td>NaN</td>\n      <td>0:00</td>\n      <td>NaN</td>\n      <td>NaN</td>\n    </tr>\n    <tr>\n      <th>2</th>\n      <td>0.0</td>\n      <td>NaN</td>\n      <td>0.0</td>\n      <td>NaN</td>\n      <td>NaN</td>\n      <td>NaN</td>\n      <td>NaN</td>\n      <td>NaN</td>\n      <td>NaN</td>\n      <td>1867.0</td>\n      <td>...</td>\n      <td>NaN</td>\n      <td>23.0</td>\n      <td>NaN</td>\n      <td>NaN</td>\n      <td>0.0</td>\n      <td>NaN</td>\n      <td>NaN</td>\n      <td>0:00</td>\n      <td>NaN</td>\n      <td>NaN</td>\n    </tr>\n    <tr>\n      <th>3</th>\n      <td>0.0</td>\n      <td>NaN</td>\n      <td>0.0</td>\n      <td>NaN</td>\n      <td>NaN</td>\n      <td>NaN</td>\n      <td>NaN</td>\n      <td>NaN</td>\n      <td>NaN</td>\n      <td>1522.0</td>\n      <td>...</td>\n      <td>NaN</td>\n      <td>17.0</td>\n      <td>NaN</td>\n      <td>NaN</td>\n      <td>0.0</td>\n      <td>NaN</td>\n      <td>NaN</td>\n      <td>0:00</td>\n      <td>NaN</td>\n      <td>NaN</td>\n    </tr>\n    <tr>\n      <th>4</th>\n      <td>0.0</td>\n      <td>NaN</td>\n      <td>0.0</td>\n      <td>NaN</td>\n      <td>NaN</td>\n      <td>NaN</td>\n      <td>NaN</td>\n      <td>NaN</td>\n      <td>NaN</td>\n      <td>2102.0</td>\n      <td>...</td>\n      <td>NaN</td>\n      <td>32.0</td>\n      <td>NaN</td>\n      <td>NaN</td>\n      <td>0.0</td>\n      <td>NaN</td>\n      <td>NaN</td>\n      <td>0:00</td>\n      <td>NaN</td>\n      <td>NaN</td>\n    </tr>\n  </tbody>\n</table>\n<p>5 rows × 53 columns</p>\n</div>"
      ],
      "text/plain": [
       "   Story Bridge West Pedestrian Inbound  \\\n0                                   0.0   \n1                                   0.0   \n2                                   0.0   \n3                                   0.0   \n4                                   0.0   \n\n   North Brisbane Bikeway Mann Park Windsor Pedestrian Outbound  \\\n0                                                NaN              \n1                                                NaN              \n2                                                NaN              \n3                                                NaN              \n4                                                NaN              \n\n   Story Bridge East Pedestrian Outbound  Kedron Brook Bikeway Lutwyche  \\\n0                                    0.0                            NaN   \n1                                    0.0                            NaN   \n2                                    0.0                            NaN   \n3                                    0.0                            NaN   \n4                                    0.0                            NaN   \n\n   Bishop Street Cyclists Inbound  \\\n0                             NaN   \n1                             NaN   \n2                             NaN   \n3                             NaN   \n4                             NaN   \n\n   Granville Street Bridge Pedestrians Outbound  \\\n0                                           NaN   \n1                                           NaN   \n2                                           NaN   \n3                                           NaN   \n4                                           NaN   \n\n   Kedron Brook Bikeway Lutwyche Cyclists Outbound  \\\n0                                              NaN   \n1                                              NaN   \n2                                              NaN   \n3                                              NaN   \n4                                              NaN   \n\n   Ekibin Park Pedestrians Outbound  Ekibin Park Pedestrians Inbound  \\\n0                               NaN                              NaN   \n1                               NaN                              NaN   \n2                               NaN                              NaN   \n3                               NaN                              NaN   \n4                               NaN                              NaN   \n\n   Bicentennial Bikeway Pedestrians Outbound  ...  \\\n0                                     1326.0  ...   \n1                                     2133.0  ...   \n2                                     1867.0  ...   \n3                                     1522.0  ...   \n4                                     2102.0  ...   \n\n   North Brisbane Bikeway Mann Park Windsor Pedestrian Inbound  \\\n0                                                NaN             \n1                                                NaN             \n2                                                NaN             \n3                                                NaN             \n4                                                NaN             \n\n  Schulz Canal Bridge Pedestrians Outbound  \\\n0                                      0.0   \n1                                     28.0   \n2                                     23.0   \n3                                     17.0   \n4                                     32.0   \n\n   Kedron Brook Bikeway Lutwyche Pedestrians Outbound  \\\n0                                                NaN    \n1                                                NaN    \n2                                                NaN    \n3                                                NaN    \n4                                                NaN    \n\n   Riverwalk Cyclists Outbound  Story Bridge West Pedestrian Outbound  \\\n0                          NaN                                    0.0   \n1                          NaN                                    0.0   \n2                          NaN                                    0.0   \n3                          NaN                                    0.0   \n4                          NaN                                    0.0   \n\n   Kedron Brook Bikeway Mitchelton Pedestrian Inbound  \\\n0                                                NaN    \n1                                                NaN    \n2                                                NaN    \n3                                                NaN    \n4                                                NaN    \n\n   North Brisbane Bikeway Mann Park Windsor Cyclists Inbound  Unnamed: 1  \\\n0                                                NaN                0:00   \n1                                                NaN                0:00   \n2                                                NaN                0:00   \n3                                                NaN                0:00   \n4                                                NaN                0:00   \n\n   Jack Pesch Bridge Cyclists Outbound  Riverwalk Pedestrians Inbound  \n0                                  NaN                            NaN  \n1                                  NaN                            NaN  \n2                                  NaN                            NaN  \n3                                  NaN                            NaN  \n4                                  NaN                            NaN  \n\n[5 rows x 53 columns]"
      ]
     },
     "execution_count": 8,
     "metadata": {},
     "output_type": "execute_result"
    }
   ],
   "source": [
    "bcc = load_bcc()\n",
    "bcc.head()"
   ]
  },
  {
   "cell_type": "code",
   "execution_count": 9,
   "metadata": {
    "autoscroll": false,
    "collapsed": false,
    "ein.hycell": false,
    "ein.tags": "worksheet-0",
    "slideshow": {
     "slide_type": "-"
    }
   },
   "outputs": [],
   "source": [
    "# now we can combine (merge) both the BOM and BCC dataframe\n",
    "# again, want to merge using the date to make sure eveything is aligned and\n",
    "# organised properly\n",
    "# First, want to convert the Date column to a format consistent with the BOM data\n",
    "bcc.Date = pd.to_datetime(bcc.Date)\n",
    "combined = pd.merge(bom, bcc, on='Date')"
   ]
  },
  {
   "cell_type": "code",
   "execution_count": 10,
   "metadata": {
    "autoscroll": false,
    "collapsed": false,
    "ein.hycell": false,
    "ein.tags": "worksheet-0",
    "slideshow": {
     "slide_type": "-"
    }
   },
   "outputs": [
    {
     "name": "stdout",
     "output_type": "stream",
     "text": [
      "(1826, 66)\n"
     ]
    },
    {
     "name": "stdout",
     "output_type": "stream",
     "text": [
      "  Product code_x  Bureau of Meteorology station number_x  \\\n",
      "0     IDCJAC0009                                   40913   \n",
      "1     IDCJAC0009                                   40913   \n",
      "2     IDCJAC0009                                   40913   \n",
      "3     IDCJAC0009                                   40913   \n",
      "4     IDCJAC0009                                   40913   \n",
      "\n",
      "   Rainfall amount (millimetres)  \\\n",
      "0                            0.0   \n",
      "1                            0.0   \n",
      "2                            1.0   \n",
      "3                            0.0   \n",
      "4                            0.0   \n",
      "\n",
      "   Period over which rainfall was measured (days) Quality_x       Date  \\\n",
      "0                                             1.0         N 2014-01-01   \n",
      "1                                             1.0         N 2014-01-02   \n",
      "2                                             1.0         N 2014-01-03   \n",
      "3                                             1.0         N 2014-01-04   \n",
      "4                                             1.0         N 2014-01-05   \n",
      "\n",
      "  Product code_y  Bureau of Meteorology station number_y  \\\n",
      "0     IDCJAC0010                                   40913   \n",
      "1     IDCJAC0010                                   40913   \n",
      "2     IDCJAC0010                                   40913   \n",
      "3     IDCJAC0010                                   40913   \n",
      "4     IDCJAC0010                                   40913   \n",
      "\n",
      "   Maximum temperature (Degree C)  \\\n",
      "0                            30.6   \n",
      "1                            31.8   \n",
      "2                            34.5   \n",
      "3                            38.7   \n",
      "4                            33.6   \n",
      "\n",
      "   Days of accumulation of maximum temperature  ...  \\\n",
      "0                                          1.0  ...   \n",
      "1                                          1.0  ...   \n",
      "2                                          1.0  ...   \n",
      "3                                          1.0  ...   \n",
      "4                                          1.0  ...   \n",
      "\n",
      "  North Brisbane Bikeway Mann Park Windsor Pedestrian Inbound  \\\n",
      "0                                                NaN            \n",
      "1                                                NaN            \n",
      "2                                                NaN            \n",
      "3                                                NaN            \n",
      "4                                                NaN            \n",
      "\n",
      "  Schulz Canal Bridge Pedestrians Outbound  \\\n",
      "0                                      0.0   \n",
      "1                                     28.0   \n",
      "2                                     23.0   \n",
      "3                                     17.0   \n",
      "4                                     32.0   \n",
      "\n",
      "   Kedron Brook Bikeway Lutwyche Pedestrians Outbound  \\\n",
      "0                                                NaN    \n",
      "1                                                NaN    \n",
      "2                                                NaN    \n",
      "3                                                NaN    \n",
      "4                                                NaN    \n",
      "\n",
      "   Riverwalk Cyclists Outbound  Story Bridge West Pedestrian Outbound  \\\n",
      "0                          NaN                                    0.0   \n",
      "1                          NaN                                    0.0   \n",
      "2                          NaN                                    0.0   \n",
      "3                          NaN                                    0.0   \n",
      "4                          NaN                                    0.0   \n",
      "\n",
      "   Kedron Brook Bikeway Mitchelton Pedestrian Inbound  \\\n",
      "0                                                NaN    \n",
      "1                                                NaN    \n",
      "2                                                NaN    \n",
      "3                                                NaN    \n",
      "4                                                NaN    \n",
      "\n",
      "   North Brisbane Bikeway Mann Park Windsor Cyclists Inbound  Unnamed: 1  \\\n",
      "0                                                NaN                0:00   \n",
      "1                                                NaN                0:00   \n",
      "2                                                NaN                0:00   \n",
      "3                                                NaN                0:00   \n",
      "4                                                NaN                0:00   \n",
      "\n",
      "   Jack Pesch Bridge Cyclists Outbound  Riverwalk Pedestrians Inbound  \n",
      "0                                  NaN                            NaN  \n",
      "1                                  NaN                            NaN  \n",
      "2                                  NaN                            NaN  \n",
      "3                                  NaN                            NaN  \n",
      "4                                  NaN                            NaN  \n",
      "\n",
      "[5 rows x 66 columns]\n"
     ]
    }
   ],
   "source": [
    "print(combined.shape)\n",
    "print(combined.head())"
   ]
  },
  {
   "cell_type": "markdown",
   "metadata": {
    "ein.tags": "worksheet-0",
    "slideshow": {
     "slide_type": "-"
    }
   },
   "source": [
    "# Q2 - Regularised Regression"
   ]
  },
  {
   "cell_type": "code",
   "execution_count": 11,
   "metadata": {
    "autoscroll": false,
    "collapsed": false,
    "ein.hycell": false,
    "ein.tags": "worksheet-0",
    "slideshow": {
     "slide_type": "-"
    }
   },
   "outputs": [
    {
     "name": "stdout",
     "output_type": "stream",
     "text": [
      "combined shape = (1826, 56)\n"
     ]
    }
   ],
   "source": [
    "# want to find samples that have a small amount of data, as we want to initially\n",
    "# use as many samples as possible\n",
    "# will remove some columns that, we don't actually need (aren't covariates)\n",
    "# such as the BOM station number, etc.\n",
    "to_drop = ['Product code_x', 'Bureau of Meteorology station number_x',\n",
    "           'Product code_y', 'Bureau of Meteorology station number_y',\n",
    "           'Product code', 'Bureau of Meteorology station number',\n",
    "           'Period over which rainfall was measured (days)',\n",
    "           'Days of accumulation of maximum temperature',\n",
    "           'Quality_x', 'Quality_y']\n",
    "#print(combined.columns.values)\n",
    "combined = combined.drop(to_drop, axis=1)\n",
    "print('combined shape = {}'.format(combined.shape))"
   ]
  },
  {
   "cell_type": "code",
   "execution_count": 12,
   "metadata": {
    "autoscroll": false,
    "collapsed": false,
    "ein.hycell": false,
    "ein.tags": "worksheet-0",
    "slideshow": {
     "slide_type": "-"
    }
   },
   "outputs": [
    {
     "name": "stdout",
     "output_type": "stream",
     "text": [
      "['Kedron Brook Bikeway Lutwyche', 'Bishop Street Cyclists Inbound', 'Granville Street Bridge Pedestrians Outbound', 'Kedron Brook Bikeway Lutwyche Cyclists Outbound', 'Ekibin Park Pedestrians Outbound', 'Ekibin Park Pedestrians Inbound', 'Granville Street Bridge Cyclists Outbound', 'Jack Pesch Bridge Pedestrians Outbound', 'Story Bridge West Cyclists Outbound', 'Kedron Brook Bikeway Mitchelton Pedestrian Outbound', 'Ekibin Park Cyclists Outbound', 'Jack Pesch Bridge Cyclists Inbound', 'Bishop Street Cyclists Outbound', 'Granville Street Bridge Cyclists Inbound', 'Bishop Street Pedestrians Inbound', 'Kedron Brook Bikeway Mitchelton Cyclist Inbound', 'Kedron Brook Bikeway Lutwyche Cyclists Inbound', 'Granville Street Bridge Pedestrians Inbound', 'North Brisbane Bikeway Mann Park Windsor Cyclists Outbound', 'Riverwalk Pedestrians Outbound', 'Kedron Brook Bikeway Mitchelton', 'Bishop Street Pedestrians Outbound', 'Ekibin Park Cyclists Inbound', 'Jack Pesch Bridge Pedestrians Inbound', 'Riverwalk Cyclists Inbound', 'Kedron Brook Bikeway Mitchelton Cyclist Outbound', 'Kedron Brook Bikeway Lutwyche Pedestrians Inbound', 'Kedron Brook Bikeway Lutwyche Pedestrians Outbound', 'Riverwalk Cyclists Outbound', 'Kedron Brook Bikeway Mitchelton Pedestrian Inbound', 'Jack Pesch Bridge Cyclists Outbound', 'Riverwalk Pedestrians Inbound']\n",
      "32\n",
      "(1826, 24)\n"
     ]
    }
   ],
   "source": [
    "# now find columns/features/covariates that have a suitable amount of data,\n",
    "# lets say 300 first\n",
    "threshold = 300\n",
    "columns_to_remove = []\n",
    "for column in combined.columns.values:\n",
    "  if np.sum(combined[column].isna()) > 300:\n",
    "    # add this column to the list that should be removed\n",
    "    columns_to_remove.append(column)\n",
    "print(columns_to_remove)\n",
    "print(len(columns_to_remove))    \n",
    "# now lets remove them\n",
    "combined = combined.drop(columns_to_remove, axis=1)\n",
    "print(combined.shape)"
   ]
  },
  {
   "cell_type": "code",
   "execution_count": 13,
   "metadata": {
    "autoscroll": false,
    "collapsed": false,
    "ein.hycell": false,
    "ein.tags": "worksheet-0",
    "slideshow": {
     "slide_type": "-"
    }
   },
   "outputs": [
    {
     "name": "stdout",
     "output_type": "stream",
     "text": [
      "0       3\n",
      "1       3\n",
      "2       3\n",
      "3       3\n",
      "4       3\n",
      "       ..\n",
      "1821    0\n",
      "1822    0\n",
      "1823    0\n",
      "1824    0\n",
      "1825    0\n",
      "Length: 1826, dtype: int64\n",
      "404\n",
      "<class 'pandas.core.frame.DataFrame'>\n"
     ]
    },
    {
     "name": "stdout",
     "output_type": "stream",
     "text": [
      "     Rainfall amount (millimetres)       Date  Maximum temperature (Degree C)  \\\n",
      "169                            0.0 2014-06-19                            20.3   \n",
      "170                            5.8 2014-06-20                            22.5   \n",
      "171                            0.0 2014-06-21                            25.6   \n",
      "172                            5.2 2014-06-22                            24.2   \n",
      "173                            0.2 2014-06-23                            24.1   \n",
      "\n",
      "     Daily global solar exposure (MJ/m*m)  \\\n",
      "169                                   8.0   \n",
      "170                                   9.1   \n",
      "171                                  12.9   \n",
      "172                                  13.0   \n",
      "173                                  13.6   \n",
      "\n",
      "     Story Bridge West Pedestrian Inbound  \\\n",
      "169                                   0.0   \n",
      "170                                   0.0   \n",
      "171                                   0.0   \n",
      "172                                   0.0   \n",
      "173                                   0.0   \n",
      "\n",
      "     North Brisbane Bikeway Mann Park Windsor Pedestrian Outbound  \\\n",
      "169                                                0.0              \n",
      "170                                                0.0              \n",
      "171                                                0.0              \n",
      "172                                                0.0              \n",
      "173                                                0.0              \n",
      "\n",
      "     Story Bridge East Pedestrian Outbound  \\\n",
      "169                                    0.0   \n",
      "170                                    0.0   \n",
      "171                                    0.0   \n",
      "172                                    0.0   \n",
      "173                                    0.0   \n",
      "\n",
      "     Bicentennial Bikeway Pedestrians Outbound  \\\n",
      "169                                     1900.0   \n",
      "170                                     1586.0   \n",
      "171                                     1847.0   \n",
      "172                                     2126.0   \n",
      "173                                     2180.0   \n",
      "\n",
      "     Schulz Canal Bridge Cyclists Outbound  \\\n",
      "169                                   55.0   \n",
      "170                                   49.0   \n",
      "171                                   67.0   \n",
      "172                                   76.0   \n",
      "173                                   69.0   \n",
      "\n",
      "     Bicentennial Bikeway Cyclists Outbound  ...  \\\n",
      "169                                   333.0  ...   \n",
      "170                                   403.0  ...   \n",
      "171                                   642.0  ...   \n",
      "172                                   635.0  ...   \n",
      "173                                   631.0  ...   \n",
      "\n",
      "     Bicentennial Bikeway Pedestrians Inbound  \\\n",
      "169                                    1630.0   \n",
      "170                                    1170.0   \n",
      "171                                    1289.0   \n",
      "172                                    1542.0   \n",
      "173                                    1862.0   \n",
      "\n",
      "     Story Bridge East Pedestrian Inbound  Bicenntenial Bikeway  \\\n",
      "169                                   0.0                4223.0   \n",
      "170                                   0.0                3619.0   \n",
      "171                                   0.0                4423.0   \n",
      "172                                   0.0                5023.0   \n",
      "173                                   0.0                5329.0   \n",
      "\n",
      "     Story Bridge West Cyclists Inbound  Story Bridge East Cyclists Outbound  \\\n",
      "169                                 0.0                                  0.0   \n",
      "170                                 0.0                                  0.0   \n",
      "171                                 0.0                                  0.0   \n",
      "172                                 0.0                                  0.0   \n",
      "173                                 0.0                                  0.0   \n",
      "\n",
      "     North Brisbane Bikeway Mann Park Windsor Pedestrian Inbound  \\\n",
      "169                                                0.0             \n",
      "170                                                0.0             \n",
      "171                                                0.0             \n",
      "172                                                0.0             \n",
      "173                                                0.0             \n",
      "\n",
      "     Schulz Canal Bridge Pedestrians Outbound  \\\n",
      "169                                      20.0   \n",
      "170                                      20.0   \n",
      "171                                      33.0   \n",
      "172                                      21.0   \n",
      "173                                      24.0   \n",
      "\n",
      "     Story Bridge West Pedestrian Outbound  \\\n",
      "169                                    0.0   \n",
      "170                                    0.0   \n",
      "171                                    0.0   \n",
      "172                                    0.0   \n",
      "173                                    0.0   \n",
      "\n",
      "     North Brisbane Bikeway Mann Park Windsor Cyclists Inbound  Unnamed: 1  \n",
      "169                                                0.0                0:00  \n",
      "170                                                0.0                0:00  \n",
      "171                                                0.0                0:00  \n",
      "172                                                0.0                0:00  \n",
      "173                                                0.0                0:00  \n",
      "\n",
      "[5 rows x 24 columns]\n",
      "Final dataset shape = (1422, 24)\n",
      "Rainfall amount (millimetres)                                                     0\n",
      "Date                                                            2014-01-12 00:00:00\n",
      "Maximum temperature (Degree C)                                                 30.6\n",
      "Daily global solar exposure (MJ/m*m)                                           27.5\n",
      "Story Bridge West Pedestrian Inbound                                              0\n",
      "North Brisbane Bikeway Mann Park Windsor Pedestrian Outbound                    NaN\n",
      "Story Bridge East Pedestrian Outbound                                             0\n",
      "Bicentennial Bikeway Pedestrians Outbound                                      2597\n",
      "Schulz Canal Bridge Cyclists Outbound                                           121\n",
      "Bicentennial Bikeway Cyclists Outbound                                          659\n",
      "Schulz Canal Bridge Cyclists Inbound                                            127\n",
      "Schulz Canal Bridge Pedestrians Inbound                                         158\n",
      "Bicentennial Bikeway Cyclists Inbound                                           659\n",
      "Story Bridge East Cyclists Inbound                                                0\n",
      "Bicentennial Bikeway Pedestrians Inbound                                       1431\n",
      "Story Bridge East Pedestrian Inbound                                              0\n",
      "Bicenntenial Bikeway                                                           5346\n",
      "Story Bridge West Cyclists Inbound                                                0\n",
      "Story Bridge East Cyclists Outbound                                               0\n",
      "North Brisbane Bikeway Mann Park Windsor Pedestrian Inbound                     NaN\n",
      "Schulz Canal Bridge Pedestrians Outbound                                         41\n",
      "Story Bridge West Pedestrian Outbound                                             0\n",
      "North Brisbane Bikeway Mann Park Windsor Cyclists Inbound                       NaN\n",
      "Unnamed: 1                                                                     0:00\n",
      "Name: 11, dtype: object\n"
     ]
    }
   ],
   "source": [
    "# now drop any rows that contain a Nan, and get rid of them\n",
    "print(np.sum(combined.isna(), axis=1))\n",
    "print(np.sum(np.sum(combined.isna(), axis=1) > 0))\n",
    "nans = combined.isna()\n",
    "print(type(nans))\n",
    "nans.to_csv('nans.csv')\n",
    "combined_filtered = combined.dropna(axis=0)\n",
    "# saving the final data set\n",
    "combined_filtered.to_csv('combined.csv')\n",
    "# lets have a look at the final data set\n",
    "print(combined_filtered.head())\n",
    "print('Final dataset shape = {}'.format(combined_filtered.shape))\n",
    "print(combined.iloc[11, :])"
   ]
  },
  {
   "cell_type": "code",
   "execution_count": 14,
   "metadata": {
    "autoscroll": false,
    "collapsed": false,
    "ein.hycell": false,
    "ein.tags": "worksheet-0",
    "slideshow": {
     "slide_type": "-"
    }
   },
   "outputs": [
    {
     "name": "stdout",
     "output_type": "stream",
     "text": [
      "num train = 888\n",
      "val train = 276\n",
      "test train = 258\n"
     ]
    }
   ],
   "source": [
    "# split into train/test split\n",
    "train = combined_filtered[combined_filtered.Date < datetime(year=2017, month=1, day=1)]\n",
    "val = combined_filtered[((combined_filtered.Date >= datetime(year=2017, month=1, day=1)) &\n",
    "                        (combined_filtered.Date < datetime(year=2018, month=1, day=1)))]\n",
    "test = combined_filtered[((combined_filtered.Date >= datetime(year=2018, month=1, day=1)) &\n",
    "                          (combined_filtered.Date < datetime(year=2019, month=1, day=1)))]\n",
    "print('num train = {}'.format(train.shape[0]))\n",
    "print('val train = {}'.format(val.shape[0]))\n",
    "print('test train = {}'.format(test.shape[0]))"
   ]
  },
  {
   "cell_type": "code",
   "execution_count": 15,
   "metadata": {
    "autoscroll": false,
    "collapsed": false,
    "ein.hycell": false,
    "ein.tags": "worksheet-0",
    "slideshow": {
     "slide_type": "-"
    }
   },
   "outputs": [
    {
     "name": "stdout",
     "output_type": "stream",
     "text": [
      "Model 1 RMSE = 623.3791739360698\n",
      "                            OLS Regression Results                            \n",
      "==============================================================================\n",
      "Dep. Variable:                      y   R-squared:                       0.474\n",
      "Model:                            OLS   Adj. R-squared:                  0.469\n",
      "Method:                 Least Squares   F-statistic:                     113.1\n",
      "Date:                Wed, 04 Mar 2020   Prob (F-statistic):          4.59e-118\n",
      "Time:                        12:03:52   Log-Likelihood:                -6899.6\n",
      "No. Observations:                 888   AIC:                         1.382e+04\n",
      "Df Residuals:                     880   BIC:                         1.385e+04\n",
      "Df Model:                           7                                         \n",
      "Covariance Type:            nonrobust                                         \n",
      "==============================================================================\n",
      "                 coef    std err          t      P>|t|      [0.025      0.975]\n",
      "------------------------------------------------------------------------------\n",
      "const        739.2276    142.489      5.188      0.000     459.569    1018.886\n",
      "x1            -2.1218      1.726     -1.230      0.219      -5.509       1.265\n",
      "x2            -5.9035      4.200     -1.406      0.160     -14.146       2.339\n",
      "x3           -34.0164      6.637     -5.125      0.000     -47.042     -20.990\n",
      "x4             6.2318      1.169      5.330      0.000       3.937       8.527\n",
      "x5             1.9407      0.108     17.964      0.000       1.729       2.153\n",
      "x6             1.1847      0.104     11.385      0.000       0.980       1.389\n",
      "x7            -0.4872      0.585     -0.833      0.405      -1.635       0.661\n",
      "==============================================================================\n",
      "Omnibus:                      150.696   Durbin-Watson:                   0.247\n",
      "Prob(Omnibus):                  0.000   Jarque-Bera (JB):              233.912\n",
      "Skew:                          -1.139   Prob(JB):                     1.61e-51\n",
      "Kurtosis:                       4.062   Cond. No.                     3.79e+03\n",
      "==============================================================================\n",
      "\n",
      "Warnings:\n",
      "[1] Standard Errors assume that the covariance matrix of the errors is correctly specified.\n",
      "[2] The condition number is large, 3.79e+03. This might indicate that there are\n",
      "strong multicollinearity or other numerical problems.\n",
      "[ 7.39227580e+02 -2.12180551e+00 -5.90348877e+00 -3.40164060e+01\n",
      "  6.23180686e+00  1.94071221e+00  1.18469111e+00 -4.87249158e-01]\n"
     ]
    },
    {
     "data": {
      "image/png": "[encoded data removed]",
      "text/plain": [
       "<Figure size 576x432 with 1 Axes>"
      ]
     },
     "metadata": {},
     "output_type": "display_data"
    }
   ],
   "source": [
    "# now perform linear regression using Ordinary Least Squares\n",
    "# want to use all weather data from the BOM\n",
    "X_bom = ['Rainfall amount (millimetres)',\n",
    "         'Daily global solar exposure (MJ/m*m)',\n",
    "         'Maximum temperature (Degree C)']\n",
    "# want to use all variables cyclist inbound variables\n",
    "X_bcc = [x for x in train.columns.values if 'Cyclists Inbound' in x]\n",
    "# remove the response variable from here\n",
    "X_bcc.remove('Bicentennial Bikeway Cyclists Inbound')\n",
    "# combine this list of variables together by just extending the\n",
    "# BOM data with the BCC data\n",
    "X_variables = X_bom + X_bcc\n",
    "Y_variable = 'Bicentennial Bikeway Cyclists Inbound'\n",
    "Y_train = np.array(train[Y_variable], dtype=np.float64)\n",
    "X_train = np.array(train[X_variables], dtype=np.float64)\n",
    "# want to add a constant to the model (the y-axis intercept)\n",
    "X_train = sm.add_constant(X_train)\n",
    "# also creating validation data\n",
    "Y_val = np.array(val[Y_variable], dtype=np.float64)\n",
    "X_val = np.array(val[X_variables], dtype=np.float64)\n",
    "X_val = sm.add_constant(X_val)\n",
    "# create the linear model\n",
    "model = sm.OLS(Y_train, X_train)\n",
    "# fit the model without any regularisation\n",
    "model_1_fit = model.fit()\n",
    "pred = model_1_fit.predict(X_val)\n",
    "print('Model 1 RMSE = {}'.format(\n",
    "  np.sqrt(mean_squared_error(Y_val, model_1_fit.predict(X_val)))))\n",
    "print(model_1_fit.summary())\n",
    "print(model_1_fit.params)\n",
    "fig, ax = plt.subplots(figsize=(8,6))\n",
    "sm.qqplot(model_1_fit.resid, ax=ax, line='s')\n",
    "plt.title('Q-Q Plot for Linear Regression')\n",
    "plt.show()"
   ]
  },
  {
   "cell_type": "markdown",
   "metadata": {
    "ein.tags": "worksheet-0",
    "slideshow": {
     "slide_type": "-"
    }
   },
   "source": [
    "Our initial residual plot looks pretty bad. The wonky trend in our residuals suggests that the i.i.d. assumption made when performing ordinary least squares is bad. This implies that the variance is not common within our data samples, meaning that our dataset is heteroskedastic (don't need to worry too much about the implications of this for this class, but the concepts of homoskedasticity and heteroskedasticity are important for successful application of stats/ML models).\n",
    "\n",
    "Despite this poor model, we will continue on looking to see if we can tidy things up within a OLS model.\n"
   ]
  },
  {
   "cell_type": "code",
   "execution_count": 16,
   "metadata": {
    "autoscroll": false,
    "collapsed": false,
    "ein.hycell": false,
    "ein.tags": "worksheet-0",
    "slideshow": {
     "slide_type": "-"
    }
   },
   "outputs": [
    {
     "name": "stdout",
     "output_type": "stream",
     "text": [
      "[[ 1.         -0.1373654  -0.03216845 -0.28375855 -0.08392224 -0.12134364\n",
      "  -0.16416081 -0.16317026]\n",
      " [-0.1373654   1.          0.64749344  0.52359272  0.1162428   0.24915125\n",
      "   0.35713766  0.09517715]\n",
      " [-0.03216845  0.64749344  1.          0.44445062  0.11422163  0.21496214\n",
      "   0.25038631  0.02452469]\n",
      " [-0.28375855  0.52359272  0.44445062  1.          0.30354061  0.35673773\n",
      "   0.53424962  0.39493691]\n",
      " [-0.08392224  0.1162428   0.11422163  0.30354061  1.         -0.25427468\n",
      "   0.5092007   0.54449222]\n",
      " [-0.12134364  0.24915125  0.21496214  0.35673773 -0.25427468  1.\n",
      "   0.34952993  0.22037637]\n",
      " [-0.16416081  0.35713766  0.25038631  0.53424962  0.5092007   0.34952993\n",
      "   1.          0.45741757]\n",
      " [-0.16317026  0.09517715  0.02452469  0.39493691  0.54449222  0.22037637\n",
      "   0.45741757  1.        ]]\n"
     ]
    },
    {
     "data": {
      "text/plain": [
       "<Figure size 432x288 with 0 Axes>"
      ]
     },
     "metadata": {},
     "output_type": "display_data"
    },
    {
     "data": {
      "image/png": "[encoded data removed]",
      "text/plain": [
       "<Figure size 288x288 with 2 Axes>"
      ]
     },
     "metadata": {},
     "output_type": "display_data"
    }
   ],
   "source": [
    "# lets see if any variables aren't explicitly correlated with our response variable.\n",
    "all_variables = X_variables + ['Bicentennial Bikeway Cyclists Inbound']\n",
    "corr_coeffs = train[all_variables].corr()\n",
    "plt.figure()\n",
    "plt.matshow(corr_coeffs)\n",
    "plt.colorbar()\n",
    "print(np.array(corr_coeffs))"
   ]
  },
  {
   "cell_type": "code",
   "execution_count": 17,
   "metadata": {
    "autoscroll": false,
    "collapsed": false,
    "ein.hycell": false,
    "ein.tags": "worksheet-0",
    "slideshow": {
     "slide_type": "-"
    }
   },
   "outputs": [
    {
     "name": "stdout",
     "output_type": "stream",
     "text": [
      "Variables to remove -> Daily global solar exposure (MJ/m*m) and Maximum temperature (Degree C)\n",
      "['Rainfall amount (millimetres)', 'Schulz Canal Bridge Cyclists Inbound', 'Story Bridge East Cyclists Inbound', 'Story Bridge West Cyclists Inbound', 'North Brisbane Bikeway Mann Park Windsor Cyclists Inbound']\n",
      "Model 1 RMSE = 589.0180774318336\n",
      "                            OLS Regression Results                            \n",
      "==============================================================================\n",
      "Dep. Variable:                      y   R-squared:                       0.443\n",
      "Model:                            OLS   Adj. R-squared:                  0.440\n",
      "Method:                 Least Squares   F-statistic:                     140.1\n",
      "Date:                Wed, 04 Mar 2020   Prob (F-statistic):          2.12e-109\n",
      "Time:                        12:03:53   Log-Likelihood:                -6924.9\n",
      "No. Observations:                 888   AIC:                         1.386e+04\n",
      "Df Residuals:                     882   BIC:                         1.389e+04\n",
      "Df Model:                           5                                         \n",
      "Covariance Type:            nonrobust                                         \n",
      "==============================================================================\n",
      "                 coef    std err          t      P>|t|      [0.025      0.975]\n",
      "------------------------------------------------------------------------------\n",
      "const         33.1201     78.620      0.421      0.674    -121.184     187.424\n",
      "x1            -3.3434      1.760     -1.900      0.058      -6.798       0.111\n",
      "x2             2.8776      1.082      2.659      0.008       0.754       5.002\n",
      "x3             1.9564      0.110     17.735      0.000       1.740       2.173\n",
      "x4             1.1488      0.107     10.769      0.000       0.939       1.358\n",
      "x5            -0.6254      0.594     -1.053      0.293      -1.791       0.540\n",
      "==============================================================================\n",
      "Omnibus:                      132.656   Durbin-Watson:                   0.196\n",
      "Prob(Omnibus):                  0.000   Jarque-Bera (JB):              193.527\n",
      "Skew:                          -1.066   Prob(JB):                     9.47e-43\n",
      "Kurtosis:                       3.829   Cond. No.                     2.03e+03\n",
      "==============================================================================\n",
      "\n",
      "Warnings:\n",
      "[1] Standard Errors assume that the covariance matrix of the errors is correctly specified.\n",
      "[2] The condition number is large, 2.03e+03. This might indicate that there are\n",
      "strong multicollinearity or other numerical problems.\n",
      "[33.12014853 -3.34339441  2.87756238  1.95643418  1.14878932 -0.62542588]\n"
     ]
    }
   ],
   "source": [
    "# looks like there is little evidence in our dataset to identify a linear\n",
    "# relationship (correlation) between variables (1 and 2) with our response.\n",
    "# So, lets remove them and see what happens\n",
    "to_remove = [X_variables[1], X_variables[2]]\n",
    "print('Variables to remove -> {} and {}'.format(to_remove[0], to_remove[1]))\n",
    "train = train.drop([X_variables[1], X_variables[2]], axis=1)\n",
    "# also want to remove these variable names from the X_variable list\n",
    "X_variables.remove(to_remove[0])\n",
    "X_variables.remove(to_remove[1])\n",
    "print(X_variables)\n",
    "# now lets create a new model and perform regression on that\n",
    "X_train = np.array(train[X_variables], dtype=np.float64)\n",
    "# want to add a constant to the model (the y-axis intercept)\n",
    "X_train = sm.add_constant(X_train)\n",
    "# also creating validation data\n",
    "Y_val = np.array(val[Y_variable], dtype=np.float64)\n",
    "X_val = np.array(val[X_variables], dtype=np.float64)\n",
    "X_val = sm.add_constant(X_val)\n",
    "# now make the model and fit it\n",
    "model_2 = sm.OLS(Y_train, X_train)\n",
    "# fit the model without any regularisation\n",
    "model_2_fit = model_2.fit()\n",
    "pred = model_2_fit.predict(X_val)\n",
    "print('Model 1 RMSE = {}'.format(\n",
    "  np.sqrt(mean_squared_error(Y_val, model_2_fit.predict(X_val)))))\n",
    "print(model_2_fit.summary())\n",
    "print(model_2_fit.params)"
   ]
  },
  {
   "cell_type": "markdown",
   "metadata": {
    "ein.tags": "worksheet-0",
    "slideshow": {
     "slide_type": "-"
    }
   },
   "source": [
    "## Trying some regularisation now (for next weeks content)\n",
    "Will compare L1 and L2 Regression now, using the refined model from before."
   ]
  },
  {
   "cell_type": "code",
   "execution_count": 18,
   "metadata": {
    "autoscroll": false,
    "collapsed": false,
    "ein.hycell": false,
    "ein.tags": "worksheet-0",
    "slideshow": {
     "slide_type": "-"
    }
   },
   "outputs": [
    {
     "name": "stdout",
     "output_type": "stream",
     "text": [
      "L1: alpha = 1.0,  RMSE = 589.137748794\n",
      "L2: alpha = 1.0,  RMSE = 588.951674045983\n"
     ]
    }
   ],
   "source": [
    "# fit the model with L1 regularisation (Lasso Regression)\n",
    "# have a look at the statsmodel documentation for info on how we specify\n",
    "# the regularisation parameters\n",
    "# basically if the L1_wt param is 1, will be Lasso\n",
    "# if L1_wt = 0, will be Ridge\n",
    "alpha = 1.0\n",
    "model_l1_fit = model_2.fit_regularized(alpha=alpha, L1_wt=1)\n",
    "pred = model_l1_fit.predict(X_val)\n",
    "print('L1: alpha = {},  RMSE = {}'.format(\n",
    "  alpha, np.sqrt(mean_squared_error(Y_val, model_l1_fit.predict(X_val)))))\n",
    "\n",
    "# now lets try L2\n",
    "model_l2_fit = model_2.fit_regularized(alpha=alpha, L1_wt=0)\n",
    "pred = model_l2_fit.predict(X_val)\n",
    "print('L2: alpha = {},  RMSE = {}'.format(\n",
    "  alpha, np.sqrt(mean_squared_error(Y_val, model_l2_fit.predict(X_val)))))\n"
   ]
  },
  {
   "cell_type": "markdown",
   "metadata": {
    "ein.tags": "worksheet-0",
    "slideshow": {
     "slide_type": "-"
    }
   },
   "source": [
    "Not much between them, but we only tried a few different regularisation coeffs.\n",
    "Lets do some cross validation with different reg parameters"
   ]
  },
  {
   "cell_type": "code",
   "execution_count": 19,
   "metadata": {
    "autoscroll": false,
    "collapsed": false,
    "ein.hycell": false,
    "ein.tags": "worksheet-0",
    "slideshow": {
     "slide_type": "-"
    }
   },
   "outputs": [
    {
     "name": "stdout",
     "output_type": "stream",
     "text": [
      "L1_L2 = 0,  alpha = 0.1,  RMSE = 588.984606085982\n",
      "L1_L2 = 0,  alpha = 0.35789473684210527,  RMSE = 588.9750615893155\n",
      "L1_L2 = 0,  alpha = 0.6157894736842106,  RMSE = 588.9660024054714\n",
      "L1_L2 = 0,  alpha = 0.8736842105263158,  RMSE = 588.9564445073951\n",
      "L1_L2 = 0,  alpha = 1.1315789473684212,  RMSE = 588.9466691135386\n",
      "L1_L2 = 0,  alpha = 1.3894736842105266,  RMSE = 588.936796242534\n",
      "L1_L2 = 0,  alpha = 1.6473684210526318,  RMSE = 588.9268815049898\n",
      "L1_L2 = 0,  alpha = 1.905263157894737,  RMSE = 588.9169536902782\n",
      "L1_L2 = 0,  alpha = 2.1631578947368424,  RMSE = 588.9070290586033\n",
      "L1_L2 = 0,  alpha = 2.421052631578948,  RMSE = 588.8971174246851\n",
      "L1_L2 = 0,  alpha = 2.678947368421053,  RMSE = 588.8872250233652\n",
      "L1_L2 = 0,  alpha = 2.936842105263158,  RMSE = 588.8773559754427\n",
      "L1_L2 = 0,  alpha = 3.1947368421052635,  RMSE = 588.8675130894502\n",
      "L1_L2 = 0,  alpha = 3.452631578947369,  RMSE = 588.8576983250479\n",
      "L1_L2 = 0,  alpha = 3.710526315789474,  RMSE = 588.8479130734514\n",
      "L1_L2 = 0,  alpha = 3.9684210526315793,  RMSE = 588.8381583338672\n",
      "L1_L2 = 0,  alpha = 4.226315789473684,  RMSE = 588.8284348282607\n",
      "L1_L2 = 0,  alpha = 4.484210526315789,  RMSE = 588.8187430781945\n",
      "L1_L2 = 0,  alpha = 4.742105263157895,  RMSE = 588.8090834575877\n",
      "L1_L2 = 0,  alpha = 5.0,  RMSE = 588.7994562297522\n",
      "L1_L2 = 1,  alpha = 0.1,  RMSE = 588.984606085982\n",
      "L1_L2 = 1,  alpha = 0.35789473684210527,  RMSE = 588.9750615893155\n",
      "L1_L2 = 1,  alpha = 0.6157894736842106,  RMSE = 588.9660024054714\n",
      "L1_L2 = 1,  alpha = 0.8736842105263158,  RMSE = 588.9564445073951\n",
      "L1_L2 = 1,  alpha = 1.1315789473684212,  RMSE = 588.9466691135386\n",
      "L1_L2 = 1,  alpha = 1.3894736842105266,  RMSE = 588.936796242534\n",
      "L1_L2 = 1,  alpha = 1.6473684210526318,  RMSE = 588.9268815049898\n",
      "L1_L2 = 1,  alpha = 1.905263157894737,  RMSE = 588.9169536902782\n",
      "L1_L2 = 1,  alpha = 2.1631578947368424,  RMSE = 588.9070290586033\n",
      "L1_L2 = 1,  alpha = 2.421052631578948,  RMSE = 588.8971174246851\n",
      "L1_L2 = 1,  alpha = 2.678947368421053,  RMSE = 588.8872250233652\n",
      "L1_L2 = 1,  alpha = 2.936842105263158,  RMSE = 588.8773559754427\n",
      "L1_L2 = 1,  alpha = 3.1947368421052635,  RMSE = 588.8675130894502\n",
      "L1_L2 = 1,  alpha = 3.452631578947369,  RMSE = 588.8576983250479\n",
      "L1_L2 = 1,  alpha = 3.710526315789474,  RMSE = 588.8479130734514\n",
      "L1_L2 = 1,  alpha = 3.9684210526315793,  RMSE = 588.8381583338672\n",
      "L1_L2 = 1,  alpha = 4.226315789473684,  RMSE = 588.8284348282607\n",
      "L1_L2 = 1,  alpha = 4.484210526315789,  RMSE = 588.8187430781945\n",
      "L1_L2 = 1,  alpha = 4.742105263157895,  RMSE = 588.8090834575877\n",
      "L1_L2 = 1,  alpha = 5.0,  RMSE = 588.7994562297522\n",
      "\n",
      "Best Model: L1_L2 = 0, alpha = 5.0, RMSE = 588.7994562297522\n"
     ]
    }
   ],
   "source": [
    "# try different L1 and L2 params\n",
    "# making a variable that will store the best RMSE\n",
    "# making it super large so will definitely be overwritten\n",
    "best_rmse = 10e12\n",
    "best_alpha = []\n",
    "best_L1_L2 = []\n",
    "\n",
    "# lets try a bunch of different ranges of alpha for L1 and L2\n",
    "alpha_list = np.linspace(0.1, 5.0, 20)\n",
    "# list to say whether we used L1 or L2\n",
    "L1_L2_list = [0, 1]\n",
    "\n",
    "for L1_L2 in L1_L2_list:\n",
    "  for alpha in alpha_list:\n",
    "    model_cross_fit = model_2.fit_regularized(alpha=alpha, L1_wt=0)\n",
    "    pred = model_cross_fit.predict(X_val)\n",
    "    rmse = np.sqrt(mean_squared_error(Y_val, model_cross_fit.predict(X_val)))\n",
    "    print('L1_L2 = {},  alpha = {},  RMSE = {}'.format(L1_L2, alpha, rmse))\n",
    "    # if this is the model with the lowest RMSE, lets save it\n",
    "    if rmse < best_rmse:\n",
    "      best_rmse = rmse\n",
    "      best_alpha = alpha\n",
    "      best_L1_L2 = L1_L2\n",
    "\n",
    "print('\\nBest Model: L1_L2 = {}, alpha = {}, RMSE = {}'.format(\n",
    "  best_L1_L2, best_alpha, best_rmse))"
   ]
  },
  {
   "cell_type": "markdown",
   "metadata": {
    "ein.tags": "worksheet-0",
    "slideshow": {
     "slide_type": "-"
    }
   },
   "source": [
    "Looking at this, we can see that the model with the lowest RMSE used L2 regularisation with and $\\alpha = 5.0$ and an RMSE of 588.799.\n",
    "\n",
    "It is important to note that the improvements was pretty small for all cases here. Regardless, lets have a look at the final performance of the model on the test set."
   ]
  },
  {
   "cell_type": "code",
   "execution_count": 20,
   "metadata": {
    "autoscroll": false,
    "collapsed": false,
    "ein.hycell": false,
    "ein.tags": "worksheet-0",
    "slideshow": {
     "slide_type": "-"
    }
   },
   "outputs": [
    {
     "data": {
      "text/plain": [
       "<matplotlib.legend.Legend at 0x7fdc001a26a0>"
      ]
     },
     "execution_count": 20,
     "metadata": {},
     "output_type": "execute_result"
    },
    {
     "data": {
      "image/png": "[encoded data removed]",
      "text/plain": [
       "<Figure size 432x288 with 1 Axes>"
      ]
     },
     "metadata": {},
     "output_type": "display_data"
    }
   ],
   "source": [
    "# also creating validation data\n",
    "Y_test = np.array(test[Y_variable], dtype=np.float64)\n",
    "X_test = np.array(test[X_variables], dtype=np.float64)\n",
    "X_test = sm.add_constant(X_val)\n",
    "model_best = model_2.fit_regularized(alpha=5.0, L1_wt=1)\n",
    "test_eval = model_best.predict(X_test)\n",
    "\n",
    "plt.figure()\n",
    "plt.plot(Y_test, 'b', label='True data')\n",
    "plt.plot(test_eval, 'r--', label='Predicted data')\n",
    "plt.legend()"
   ]
  },
  {
   "cell_type": "markdown",
   "metadata": {
    "ein.tags": "worksheet-0",
    "slideshow": {
     "slide_type": "-"
    }
   },
   "source": [
    "looks like the model still isn't very good but we expected this, given that we new from our first model that a simple linear regression with an i.i.d. assumption was bad. We can still see this from the residuals plot for the best model."
   ]
  },
  {
   "cell_type": "code",
   "execution_count": 21,
   "metadata": {
    "autoscroll": false,
    "collapsed": false,
    "ein.hycell": false,
    "ein.tags": "worksheet-0",
    "slideshow": {
     "slide_type": "-"
    }
   },
   "outputs": [
    {
     "data": {
      "image/png": "[encoded data removed]",
      "text/plain": [
       "<Figure size 576x432 with 1 Axes>"
      ]
     },
     "metadata": {},
     "output_type": "display_data"
    }
   ],
   "source": [
    "fig, ax = plt.subplots(figsize=(8,6))\n",
    "sm.qqplot(model_1_fit.resid, ax=ax, line='s')\n",
    "plt.title('Q-Q Plot for Linear Regression Using Best Model')\n",
    "plt.show()"
   ]
  },
  {
   "cell_type": "markdown",
   "metadata": {
    "ein.tags": "worksheet-0",
    "slideshow": {
     "slide_type": "-"
    }
   },
   "source": [
    "Still a wonky trend in this Q-Q plot of the residuals (heteroskedasticity). \n",
    "Our model could be included by accomodating for this change in variance, but usually requires significant more\n",
    "domain expertise to implement successfully.\n",
    "\n",
    "This is a big take home message as well: domain expertise is *REALLY* important. Without it, your modelling scheme is likely going to be pretty average at best. When you get more comfortable with ML, you can begin to better incorporate this into your modelling assumptions, or better yet, can move to a Bayesian approach and apply the domain expertise of your industry partners in the form of a prior probability! (not covered in this unit, but anyone keen on ML should check it ouyt eventually)"
   ]
  }
 ],
 "metadata": {
  "kernelspec": {
   "argv": [
    "python",
    "-m",
    "ipykernel_launcher",
    "-f",
    "{connection_file}"
   ],
   "display_name": "Python 3",
   "env": null,
   "interrupt_mode": "signal",
   "language": "python",
   "metadata": null,
   "name": "python3"
  },
  "language_info": {
   "codemirror_mode": {
    "name": "ipython",
    "version": 3
   },
   "file_extension": ".py",
   "mimetype": "text/x-python",
   "name": "python",
   "nbconvert_exporter": "python",
   "pygments_lexer": "ipython3",
   "version": "3.7.1"
  },
  "name": "tute_1.ipynb"
 },
 "nbformat": 4,
 "nbformat_minor": 4
}
