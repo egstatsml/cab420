{
 "cells": [
  {
   "cell_type": "markdown",
   "metadata": {
    "ein.tags": "worksheet-0",
    "slideshow": {
     "slide_type": "-"
    }
   },
   "source": [
    "# Tute 1 - Filtering data and Regularised Regression\n",
    "\n",
    "Go through the tute with Python"
   ]
  },
  {
   "cell_type": "code",
   "execution_count": 1,
   "metadata": {
    "autoscroll": false,
    "collapsed": false,
    "ein.hycell": false,
    "ein.tags": "worksheet-0",
    "slideshow": {
     "slide_type": "-"
    }
   },
   "outputs": [],
   "source": [
    "# unlike MATLAB, core Python is limited to a few data types and built in methods\n",
    "# Thats ok though, because there is a tonne of open source packages that do\n",
    "# pretty much everything we need, we just need to import them\n",
    "\n",
    "# numpy handles pretty much anything that is a number/vector/matrix/array\n",
    "import numpy as np\n",
    "# pandas handles dataframes (exactly the same as tables in Matlab)\n",
    "import pandas as pd\n",
    "# matplotlib emulates Matlabs plotting functionality\n",
    "import matplotlib.pyplot as plt\n",
    "# stats models is a package that is going to perform the regression analysis\n",
    "from statsmodels import api as sm\n",
    "from scipy import stats\n",
    "# os allows us to manipulate variables on out local machine, such as paths and environment variables\n",
    "import os\n",
    "# self explainatory, dates and times\n",
    "from datetime import datetime, date\n",
    "# a helper package to help us iterate over objects\n",
    "import itertools"
   ]
  },
  {
   "cell_type": "markdown",
   "metadata": {
    "ein.tags": "worksheet-0",
    "slideshow": {
     "slide_type": "-"
    }
   },
   "source": [
    "First step is to combine all of the data from the spreadsheets. Want to combine temperature, rainfall and solar data from the same date and have them all on the same row entry.\n",
    "Looking at one of the data sets, we see that the year, month and day are separated across different columns.\n",
    "Want to have a single column to allow us to compare dates. This function can be applied to each\n",
    "row in a dataframe using the built-in `apply()` method."
   ]
  },
  {
   "cell_type": "code",
   "execution_count": 2,
   "metadata": {
    "autoscroll": false,
    "collapsed": false,
    "ein.hycell": false,
    "ein.tags": "worksheet-0",
    "slideshow": {
     "slide_type": "-"
    }
   },
   "outputs": [],
   "source": [
    "# Create single datetime object from year, month and day\n",
    "def create_date(row):\n",
    "    # create string with date it format Y:m:d\n",
    "  return datetime.strptime('{}/{}/{}'.format(row.Year, row.Month, row.Day),\n",
    "                           '%Y/%m/%d')"
   ]
  },
  {
   "cell_type": "code",
   "execution_count": 3,
   "metadata": {
    "autoscroll": false,
    "collapsed": false,
    "ein.hycell": false,
    "ein.tags": "worksheet-0",
    "slideshow": {
     "slide_type": "-"
    }
   },
   "outputs": [],
   "source": [
    "# Q1. Load in all the data\n",
    "def load_bom(root_dir='/home/ethan/cab420/tutes/CAB420_Tutorial1/BOM'):\n",
    "  \"\"\"load in the BOM data and concatenate it all\"\"\"\n",
    "  rain = pd.read_csv(os.path.join(root_dir, 'IDCJAC0009_040913_1800_Data.csv'))\n",
    "  temp = pd.read_csv(os.path.join(root_dir, 'IDCJAC0010_040913_1800_Data.csv'))\n",
    "  solar = pd.read_csv(os.path.join(root_dir, 'IDCJAC0016_040913_1800_Data.csv'))\n",
    "  \n",
    "  # want all the date ranges to be the same\n",
    "  rain = rain[(rain.Year >= 2014) & (rain.Year <= 2018)]\n",
    "  temp = temp[(temp.Year >= 2014) & (temp.Year <= 2018)]\n",
    "  solar = solar[(solar.Year >= 2014) & (solar.Year <= 2018)]\n",
    "  # create a datetime object for each row, and store it in the Date column\n",
    "  rain['Date'] = rain.apply(create_date, axis=1)\n",
    "  temp['Date'] = temp.apply(create_date, axis=1)\n",
    "  solar['Date'] = solar.apply(create_date, axis=1)\n",
    "  # now merge them all based on the date, so will create a single Date\n",
    "  # column that has them all in\n",
    "  bom_combined = pd.merge(rain, temp, on='Date')\n",
    "  bom_combined = pd.merge(bom_combined, solar, on='Date')\n",
    "  return bom_combined\n",
    "\n"
   ]
  },
  {
   "cell_type": "code",
   "execution_count": 3,
   "metadata": {
    "autoscroll": false,
    "collapsed": false,
    "ein.hycell": false,
    "ein.tags": "worksheet-0",
    "slideshow": {
     "slide_type": "-"
    }
   },
   "outputs": [],
   "source": []
  },
  {
   "cell_type": "code",
   "execution_count": 4,
   "metadata": {
    "autoscroll": false,
    "collapsed": false,
    "ein.hycell": false,
    "ein.tags": "worksheet-0",
    "slideshow": {
     "slide_type": "-"
    }
   },
   "outputs": [
    {
     "name": "stdout",
     "output_type": "stream",
     "text": [
      "  Product code_x  Bureau of Meteorology station number_x  Year_x  Month_x  \\\n",
      "0     IDCJAC0009                                   40913    2014        1   \n",
      "1     IDCJAC0009                                   40913    2014        1   \n",
      "2     IDCJAC0009                                   40913    2014        1   \n",
      "3     IDCJAC0009                                   40913    2014        1   \n",
      "4     IDCJAC0009                                   40913    2014        1   \n",
      "\n",
      "   Day_x  Rainfall amount (millimetres)  \\\n",
      "0      1                            0.0   \n",
      "1      2                            0.0   \n",
      "2      3                            1.0   \n",
      "3      4                            0.0   \n",
      "4      5                            0.0   \n",
      "\n",
      "   Period over which rainfall was measured (days) Quality_x       Date  \\\n",
      "0                                             1.0         N 2014-01-01   \n",
      "1                                             1.0         N 2014-01-02   \n",
      "2                                             1.0         N 2014-01-03   \n",
      "3                                             1.0         N 2014-01-04   \n",
      "4                                             1.0         N 2014-01-05   \n",
      "\n",
      "  Product code_y  ...  Day_y  Maximum temperature (Degree C)  \\\n",
      "0     IDCJAC0010  ...      1                            30.6   \n",
      "1     IDCJAC0010  ...      2                            31.8   \n",
      "2     IDCJAC0010  ...      3                            34.5   \n",
      "3     IDCJAC0010  ...      4                            38.7   \n",
      "4     IDCJAC0010  ...      5                            33.6   \n",
      "\n",
      "   Days of accumulation of maximum temperature  Quality_y  Product code  \\\n",
      "0                                          1.0          Y    IDCJAC0016   \n",
      "1                                          1.0          Y    IDCJAC0016   \n",
      "2                                          1.0          Y    IDCJAC0016   \n",
      "3                                          1.0          Y    IDCJAC0016   \n",
      "4                                          1.0          Y    IDCJAC0016   \n",
      "\n",
      "   Bureau of Meteorology station number  Year Month  Day  \\\n",
      "0                                 40913  2014     1    1   \n",
      "1                                 40913  2014     1    2   \n",
      "2                                 40913  2014     1    3   \n",
      "3                                 40913  2014     1    4   \n",
      "4                                 40913  2014     1    5   \n",
      "\n",
      "   Daily global solar exposure (MJ/m*m)  \n",
      "0                                  31.2  \n",
      "1                                  23.4  \n",
      "2                                  29.6  \n",
      "3                                  30.5  \n",
      "4                                  15.7  \n",
      "\n",
      "[5 rows x 23 columns]\n"
     ]
    }
   ],
   "source": [
    "# load it in, and then lets have a look at it to make sure it is all ok\n",
    "bom = load_bom()\n",
    "print(bom.head())"
   ]
  },
  {
   "cell_type": "code",
   "execution_count": 5,
   "metadata": {
    "autoscroll": false,
    "collapsed": false,
    "ein.hycell": false,
    "ein.tags": "worksheet-0",
    "slideshow": {
     "slide_type": "-"
    }
   },
   "outputs": [
    {
     "name": "stdout",
     "output_type": "stream",
     "text": [
      "['Product code_x' 'Bureau of Meteorology station number_x' 'Year_x'\n",
      " 'Month_x' 'Day_x' 'Rainfall amount (millimetres)'\n",
      " 'Period over which rainfall was measured (days)' 'Quality_x' 'Date'\n",
      " 'Product code_y' 'Bureau of Meteorology station number_y' 'Year_y'\n",
      " 'Month_y' 'Day_y' 'Maximum temperature (Degree C)'\n",
      " 'Days of accumulation of maximum temperature' 'Quality_y' 'Product code'\n",
      " 'Bureau of Meteorology station number' 'Year' 'Month' 'Day'\n",
      " 'Daily global solar exposure (MJ/m*m)']\n"
     ]
    }
   ],
   "source": [
    "# looks like there are some repeated columns (from the year/month/day)\n",
    "#lets get rid of those\n",
    "print(bom.columns.values)"
   ]
  },
  {
   "cell_type": "code",
   "execution_count": 6,
   "metadata": {
    "autoscroll": false,
    "collapsed": false,
    "ein.hycell": false,
    "ein.tags": "worksheet-0",
    "slideshow": {
     "slide_type": "-"
    }
   },
   "outputs": [
    {
     "data": {
      "text/html": [
       "<div>\n<style scoped>\n    .dataframe tbody tr th:only-of-type {\n        vertical-align: middle;\n    }\n\n    .dataframe tbody tr th {\n        vertical-align: top;\n    }\n\n    .dataframe thead th {\n        text-align: right;\n    }\n</style>\n<table border=\"1\" class=\"dataframe\">\n  <thead>\n    <tr style=\"text-align: right;\">\n      <th></th>\n      <th>Product code_x</th>\n      <th>Bureau of Meteorology station number_x</th>\n      <th>Rainfall amount (millimetres)</th>\n      <th>Period over which rainfall was measured (days)</th>\n      <th>Quality_x</th>\n      <th>Date</th>\n      <th>Product code_y</th>\n      <th>Bureau of Meteorology station number_y</th>\n      <th>Maximum temperature (Degree C)</th>\n      <th>Days of accumulation of maximum temperature</th>\n      <th>Quality_y</th>\n      <th>Product code</th>\n      <th>Bureau of Meteorology station number</th>\n      <th>Daily global solar exposure (MJ/m*m)</th>\n    </tr>\n  </thead>\n  <tbody>\n    <tr>\n      <th>0</th>\n      <td>IDCJAC0009</td>\n      <td>40913</td>\n      <td>0.0</td>\n      <td>1.0</td>\n      <td>N</td>\n      <td>2014-01-01</td>\n      <td>IDCJAC0010</td>\n      <td>40913</td>\n      <td>30.6</td>\n      <td>1.0</td>\n      <td>Y</td>\n      <td>IDCJAC0016</td>\n      <td>40913</td>\n      <td>31.2</td>\n    </tr>\n    <tr>\n      <th>1</th>\n      <td>IDCJAC0009</td>\n      <td>40913</td>\n      <td>0.0</td>\n      <td>1.0</td>\n      <td>N</td>\n      <td>2014-01-02</td>\n      <td>IDCJAC0010</td>\n      <td>40913</td>\n      <td>31.8</td>\n      <td>1.0</td>\n      <td>Y</td>\n      <td>IDCJAC0016</td>\n      <td>40913</td>\n      <td>23.4</td>\n    </tr>\n    <tr>\n      <th>2</th>\n      <td>IDCJAC0009</td>\n      <td>40913</td>\n      <td>1.0</td>\n      <td>1.0</td>\n      <td>N</td>\n      <td>2014-01-03</td>\n      <td>IDCJAC0010</td>\n      <td>40913</td>\n      <td>34.5</td>\n      <td>1.0</td>\n      <td>Y</td>\n      <td>IDCJAC0016</td>\n      <td>40913</td>\n      <td>29.6</td>\n    </tr>\n    <tr>\n      <th>3</th>\n      <td>IDCJAC0009</td>\n      <td>40913</td>\n      <td>0.0</td>\n      <td>1.0</td>\n      <td>N</td>\n      <td>2014-01-04</td>\n      <td>IDCJAC0010</td>\n      <td>40913</td>\n      <td>38.7</td>\n      <td>1.0</td>\n      <td>Y</td>\n      <td>IDCJAC0016</td>\n      <td>40913</td>\n      <td>30.5</td>\n    </tr>\n    <tr>\n      <th>4</th>\n      <td>IDCJAC0009</td>\n      <td>40913</td>\n      <td>0.0</td>\n      <td>1.0</td>\n      <td>N</td>\n      <td>2014-01-05</td>\n      <td>IDCJAC0010</td>\n      <td>40913</td>\n      <td>33.6</td>\n      <td>1.0</td>\n      <td>Y</td>\n      <td>IDCJAC0016</td>\n      <td>40913</td>\n      <td>15.7</td>\n    </tr>\n  </tbody>\n</table>\n</div>"
      ],
      "text/plain": [
       "  Product code_x  Bureau of Meteorology station number_x  \\\n0     IDCJAC0009                                   40913   \n1     IDCJAC0009                                   40913   \n2     IDCJAC0009                                   40913   \n3     IDCJAC0009                                   40913   \n4     IDCJAC0009                                   40913   \n\n   Rainfall amount (millimetres)  \\\n0                            0.0   \n1                            0.0   \n2                            1.0   \n3                            0.0   \n4                            0.0   \n\n   Period over which rainfall was measured (days) Quality_x       Date  \\\n0                                             1.0         N 2014-01-01   \n1                                             1.0         N 2014-01-02   \n2                                             1.0         N 2014-01-03   \n3                                             1.0         N 2014-01-04   \n4                                             1.0         N 2014-01-05   \n\n  Product code_y  Bureau of Meteorology station number_y  \\\n0     IDCJAC0010                                   40913   \n1     IDCJAC0010                                   40913   \n2     IDCJAC0010                                   40913   \n3     IDCJAC0010                                   40913   \n4     IDCJAC0010                                   40913   \n\n   Maximum temperature (Degree C)  \\\n0                            30.6   \n1                            31.8   \n2                            34.5   \n3                            38.7   \n4                            33.6   \n\n   Days of accumulation of maximum temperature Quality_y Product code  \\\n0                                          1.0         Y   IDCJAC0016   \n1                                          1.0         Y   IDCJAC0016   \n2                                          1.0         Y   IDCJAC0016   \n3                                          1.0         Y   IDCJAC0016   \n4                                          1.0         Y   IDCJAC0016   \n\n   Bureau of Meteorology station number  Daily global solar exposure (MJ/m*m)  \n0                                 40913                                  31.2  \n1                                 40913                                  23.4  \n2                                 40913                                  29.6  \n3                                 40913                                  30.5  \n4                                 40913                                  15.7  "
      ]
     },
     "execution_count": 6,
     "metadata": {},
     "output_type": "execute_result"
    }
   ],
   "source": [
    "bom = bom.drop(['Year', 'Month', 'Day',\n",
    "                'Year_x', 'Month_x', 'Day_x',\n",
    "                'Year_y', 'Month_y', 'Day_y'], axis=1)\n",
    "bom.head()"
   ]
  },
  {
   "cell_type": "code",
   "execution_count": 7,
   "metadata": {
    "autoscroll": false,
    "collapsed": false,
    "ein.hycell": false,
    "ein.tags": "worksheet-0",
    "slideshow": {
     "slide_type": "-"
    }
   },
   "outputs": [],
   "source": [
    "# now want to load in the BCC data and see which columns are available in all of\n",
    "# the different data sets\n",
    "def load_bcc(root_dir='/home/ethan/cab420/tutes/CAB420_Tutorial1/BCCCyclewayCounts'):\n",
    "  \"\"\"load in the BCC dataset and combine them\"\"\"\n",
    "  bcc_2014 = pd.read_csv(os.path.join(root_dir, 'bike-ped-auto-counts-2014.csv'))\n",
    "  bcc_2015 = pd.read_csv(os.path.join(root_dir, 'bike-ped-auto-counts-2015.csv'))\n",
    "  bcc_2016 = pd.read_csv(os.path.join(root_dir, 'bike-ped-auto-counts-2016.csv'))\n",
    "  bcc_2017 = pd.read_csv(os.path.join(root_dir, 'bike-ped-auto-counts-2017.csv'))\n",
    "  bcc_2018 = pd.read_csv(os.path.join(root_dir, 'bike-ped-auto-counts-2018.csv'))\n",
    "\n",
    "  # lets get the column values, and see which are consistent across them all\n",
    "  # itertools is a helper module to help us convert the list of dataframe column\n",
    "  # values (a list of lists) to one big flattened out list.\n",
    "  # This flattened lists could have repeated entries\n",
    "  all_columns_repeated = list(itertools.chain(*(\n",
    "    bcc_2014.columns.values, bcc_2015.columns.values,\n",
    "    bcc_2016.columns.values, bcc_2017.columns.values,\n",
    "    bcc_2018.columns.values)))\n",
    "  # creating a set of these column values  will remove duplicates\n",
    "  all_columns = set(all_columns_repeated)\n",
    "  # now lets perform the intersection of this set with each set of the column\n",
    "  # values from each data set.\n",
    "  # this will tell us which columns are common to every data set\n",
    "  common_column = all_columns.intersection(bcc_2014.columns.values, bcc_2015.columns.values,\n",
    "                                           bcc_2016.columns.values, bcc_2017.columns.values,\n",
    "                                           bcc_2018.columns.values)\n",
    "  # now lets get just the common columns from each data frame, and then\n",
    "  # concatenate them all\n",
    "  bcc_2014 = bcc_2014[common_column]\n",
    "  bcc_2015 = bcc_2015[common_column]\n",
    "  bcc_2016 = bcc_2016[common_column]\n",
    "  bcc_2017 = bcc_2017[common_column]\n",
    "  bcc_2018 = bcc_2018[common_column]\n",
    "  # now concatenate them all (concat vertically)\n",
    "  bcc = pd.concat([bcc_2014, bcc_2015, bcc_2016,\n",
    "                   bcc_2017, bcc_2018])\n",
    "  return bcc\n"
   ]
  },
  {
   "cell_type": "code",
   "execution_count": 8,
   "metadata": {
    "autoscroll": false,
    "collapsed": false,
    "ein.hycell": false,
    "ein.tags": "worksheet-0",
    "slideshow": {
     "slide_type": "-"
    }
   },
   "outputs": [
    {
     "data": {
      "text/html": [
       "<div>\n<style scoped>\n    .dataframe tbody tr th:only-of-type {\n        vertical-align: middle;\n    }\n\n    .dataframe tbody tr th {\n        vertical-align: top;\n    }\n\n    .dataframe thead th {\n        text-align: right;\n    }\n</style>\n<table border=\"1\" class=\"dataframe\">\n  <thead>\n    <tr style=\"text-align: right;\">\n      <th></th>\n      <th>Riverwalk Cyclists Outbound</th>\n      <th>Story Bridge West Pedestrian Inbound</th>\n      <th>Kedron Brook Bikeway Mitchelton</th>\n      <th>Kedron Brook Bikeway Lutwyche Pedestrians Outbound</th>\n      <th>Story Bridge East Cyclists Inbound</th>\n      <th>Bishop Street Pedestrians Inbound</th>\n      <th>Jack Pesch Bridge Pedestrians Inbound</th>\n      <th>Granville Street Bridge Pedestrians Inbound</th>\n      <th>Bicentennial Bikeway Cyclists Inbound</th>\n      <th>Ekibin Park Cyclists Outbound</th>\n      <th>...</th>\n      <th>Date</th>\n      <th>Kedron Brook Bikeway Mitchelton Pedestrian Outbound</th>\n      <th>Ekibin Park Cyclists Inbound</th>\n      <th>Riverwalk Pedestrians Inbound</th>\n      <th>Riverwalk Pedestrians Outbound</th>\n      <th>Story Bridge East Pedestrian Inbound</th>\n      <th>Bicentennial Bikeway Pedestrians Outbound</th>\n      <th>Story Bridge West Pedestrian Outbound</th>\n      <th>North Brisbane Bikeway Mann Park Windsor Pedestrian Outbound</th>\n      <th>Kedron Brook Bikeway Lutwyche</th>\n    </tr>\n  </thead>\n  <tbody>\n    <tr>\n      <th>0</th>\n      <td>NaN</td>\n      <td>0.0</td>\n      <td>NaN</td>\n      <td>NaN</td>\n      <td>0.0</td>\n      <td>NaN</td>\n      <td>NaN</td>\n      <td>NaN</td>\n      <td>569.0</td>\n      <td>NaN</td>\n      <td>...</td>\n      <td>1/01/2014</td>\n      <td>NaN</td>\n      <td>NaN</td>\n      <td>NaN</td>\n      <td>NaN</td>\n      <td>0.0</td>\n      <td>1326.0</td>\n      <td>0.0</td>\n      <td>NaN</td>\n      <td>NaN</td>\n    </tr>\n    <tr>\n      <th>1</th>\n      <td>NaN</td>\n      <td>0.0</td>\n      <td>NaN</td>\n      <td>NaN</td>\n      <td>0.0</td>\n      <td>NaN</td>\n      <td>NaN</td>\n      <td>NaN</td>\n      <td>658.0</td>\n      <td>NaN</td>\n      <td>...</td>\n      <td>2/01/2014</td>\n      <td>NaN</td>\n      <td>NaN</td>\n      <td>NaN</td>\n      <td>NaN</td>\n      <td>0.0</td>\n      <td>2133.0</td>\n      <td>0.0</td>\n      <td>NaN</td>\n      <td>NaN</td>\n    </tr>\n    <tr>\n      <th>2</th>\n      <td>NaN</td>\n      <td>0.0</td>\n      <td>NaN</td>\n      <td>NaN</td>\n      <td>0.0</td>\n      <td>NaN</td>\n      <td>NaN</td>\n      <td>NaN</td>\n      <td>463.0</td>\n      <td>NaN</td>\n      <td>...</td>\n      <td>3/01/2014</td>\n      <td>NaN</td>\n      <td>NaN</td>\n      <td>NaN</td>\n      <td>NaN</td>\n      <td>0.0</td>\n      <td>1867.0</td>\n      <td>0.0</td>\n      <td>NaN</td>\n      <td>NaN</td>\n    </tr>\n    <tr>\n      <th>3</th>\n      <td>NaN</td>\n      <td>0.0</td>\n      <td>NaN</td>\n      <td>NaN</td>\n      <td>0.0</td>\n      <td>NaN</td>\n      <td>NaN</td>\n      <td>NaN</td>\n      <td>410.0</td>\n      <td>NaN</td>\n      <td>...</td>\n      <td>4/01/2014</td>\n      <td>NaN</td>\n      <td>NaN</td>\n      <td>NaN</td>\n      <td>NaN</td>\n      <td>0.0</td>\n      <td>1522.0</td>\n      <td>0.0</td>\n      <td>NaN</td>\n      <td>NaN</td>\n    </tr>\n    <tr>\n      <th>4</th>\n      <td>NaN</td>\n      <td>0.0</td>\n      <td>NaN</td>\n      <td>NaN</td>\n      <td>0.0</td>\n      <td>NaN</td>\n      <td>NaN</td>\n      <td>NaN</td>\n      <td>654.0</td>\n      <td>NaN</td>\n      <td>...</td>\n      <td>5/01/2014</td>\n      <td>NaN</td>\n      <td>NaN</td>\n      <td>NaN</td>\n      <td>NaN</td>\n      <td>0.0</td>\n      <td>2102.0</td>\n      <td>0.0</td>\n      <td>NaN</td>\n      <td>NaN</td>\n    </tr>\n  </tbody>\n</table>\n<p>5 rows × 53 columns</p>\n</div>"
      ],
      "text/plain": [
       "   Riverwalk Cyclists Outbound  Story Bridge West Pedestrian Inbound  \\\n0                          NaN                                   0.0   \n1                          NaN                                   0.0   \n2                          NaN                                   0.0   \n3                          NaN                                   0.0   \n4                          NaN                                   0.0   \n\n   Kedron Brook Bikeway Mitchelton  \\\n0                              NaN   \n1                              NaN   \n2                              NaN   \n3                              NaN   \n4                              NaN   \n\n   Kedron Brook Bikeway Lutwyche Pedestrians Outbound  \\\n0                                                NaN    \n1                                                NaN    \n2                                                NaN    \n3                                                NaN    \n4                                                NaN    \n\n   Story Bridge East Cyclists Inbound  Bishop Street Pedestrians Inbound  \\\n0                                 0.0                                NaN   \n1                                 0.0                                NaN   \n2                                 0.0                                NaN   \n3                                 0.0                                NaN   \n4                                 0.0                                NaN   \n\n   Jack Pesch Bridge Pedestrians Inbound  \\\n0                                    NaN   \n1                                    NaN   \n2                                    NaN   \n3                                    NaN   \n4                                    NaN   \n\n   Granville Street Bridge Pedestrians Inbound  \\\n0                                          NaN   \n1                                          NaN   \n2                                          NaN   \n3                                          NaN   \n4                                          NaN   \n\n   Bicentennial Bikeway Cyclists Inbound  Ekibin Park Cyclists Outbound  ...  \\\n0                                  569.0                            NaN  ...   \n1                                  658.0                            NaN  ...   \n2                                  463.0                            NaN  ...   \n3                                  410.0                            NaN  ...   \n4                                  654.0                            NaN  ...   \n\n        Date  Kedron Brook Bikeway Mitchelton Pedestrian Outbound  \\\n0  1/01/2014                                                NaN     \n1  2/01/2014                                                NaN     \n2  3/01/2014                                                NaN     \n3  4/01/2014                                                NaN     \n4  5/01/2014                                                NaN     \n\n   Ekibin Park Cyclists Inbound  Riverwalk Pedestrians Inbound  \\\n0                           NaN                            NaN   \n1                           NaN                            NaN   \n2                           NaN                            NaN   \n3                           NaN                            NaN   \n4                           NaN                            NaN   \n\n   Riverwalk Pedestrians Outbound  Story Bridge East Pedestrian Inbound  \\\n0                             NaN                                   0.0   \n1                             NaN                                   0.0   \n2                             NaN                                   0.0   \n3                             NaN                                   0.0   \n4                             NaN                                   0.0   \n\n   Bicentennial Bikeway Pedestrians Outbound  \\\n0                                     1326.0   \n1                                     2133.0   \n2                                     1867.0   \n3                                     1522.0   \n4                                     2102.0   \n\n   Story Bridge West Pedestrian Outbound  \\\n0                                    0.0   \n1                                    0.0   \n2                                    0.0   \n3                                    0.0   \n4                                    0.0   \n\n   North Brisbane Bikeway Mann Park Windsor Pedestrian Outbound  \\\n0                                                NaN              \n1                                                NaN              \n2                                                NaN              \n3                                                NaN              \n4                                                NaN              \n\n   Kedron Brook Bikeway Lutwyche  \n0                            NaN  \n1                            NaN  \n2                            NaN  \n3                            NaN  \n4                            NaN  \n\n[5 rows x 53 columns]"
      ]
     },
     "execution_count": 8,
     "metadata": {},
     "output_type": "execute_result"
    }
   ],
   "source": [
    "bcc = load_bcc()\n",
    "bcc.head()"
   ]
  },
  {
   "cell_type": "code",
   "execution_count": 9,
   "metadata": {
    "autoscroll": false,
    "collapsed": false,
    "ein.hycell": false,
    "ein.tags": "worksheet-0",
    "slideshow": {
     "slide_type": "-"
    }
   },
   "outputs": [],
   "source": [
    "# now we can combine (merge) both the BOM and BCC dataframe\n",
    "# again, want to merge using the date to make sure eveything is aligned and\n",
    "# organised properly\n",
    "# First, want to convert the Date column to a format consistent with the BOM data\n",
    "bcc.Date = pd.to_datetime(bcc.Date)\n",
    "combined = pd.merge(bom, bcc, on='Date')"
   ]
  },
  {
   "cell_type": "code",
   "execution_count": 10,
   "metadata": {
    "autoscroll": false,
    "collapsed": false,
    "ein.hycell": false,
    "ein.tags": "worksheet-0",
    "slideshow": {
     "slide_type": "-"
    }
   },
   "outputs": [
    {
     "name": "stdout",
     "output_type": "stream",
     "text": [
      "  Product code_x  Bureau of Meteorology station number_x  \\\n",
      "0     IDCJAC0009                                   40913   \n",
      "1     IDCJAC0009                                   40913   \n",
      "2     IDCJAC0009                                   40913   \n",
      "3     IDCJAC0009                                   40913   \n",
      "4     IDCJAC0009                                   40913   \n",
      "\n",
      "   Rainfall amount (millimetres)  \\\n",
      "0                            0.0   \n",
      "1                            0.0   \n",
      "2                            1.0   \n",
      "3                            0.0   \n",
      "4                            0.0   \n",
      "\n",
      "   Period over which rainfall was measured (days) Quality_x       Date  \\\n",
      "0                                             1.0         N 2014-01-01   \n",
      "1                                             1.0         N 2014-01-02   \n",
      "2                                             1.0         N 2014-01-03   \n",
      "3                                             1.0         N 2014-01-04   \n",
      "4                                             1.0         N 2014-01-05   \n",
      "\n",
      "  Product code_y  Bureau of Meteorology station number_y  \\\n",
      "0     IDCJAC0010                                   40913   \n",
      "1     IDCJAC0010                                   40913   \n",
      "2     IDCJAC0010                                   40913   \n",
      "3     IDCJAC0010                                   40913   \n",
      "4     IDCJAC0010                                   40913   \n",
      "\n",
      "   Maximum temperature (Degree C)  \\\n",
      "0                            30.6   \n",
      "1                            31.8   \n",
      "2                            34.5   \n",
      "3                            38.7   \n",
      "4                            33.6   \n",
      "\n",
      "   Days of accumulation of maximum temperature  ...  \\\n",
      "0                                          1.0  ...   \n",
      "1                                          1.0  ...   \n",
      "2                                          1.0  ...   \n",
      "3                                          1.0  ...   \n",
      "4                                          1.0  ...   \n",
      "\n",
      "  Kedron Brook Bikeway Mitchelton Pedestrian Inbound  \\\n",
      "0                                                NaN   \n",
      "1                                                NaN   \n",
      "2                                                NaN   \n",
      "3                                                NaN   \n",
      "4                                                NaN   \n",
      "\n",
      "  Kedron Brook Bikeway Mitchelton Pedestrian Outbound  \\\n",
      "0                                                NaN    \n",
      "1                                                NaN    \n",
      "2                                                NaN    \n",
      "3                                                NaN    \n",
      "4                                                NaN    \n",
      "\n",
      "   Ekibin Park Cyclists Inbound  Riverwalk Pedestrians Inbound  \\\n",
      "0                           NaN                            NaN   \n",
      "1                           NaN                            NaN   \n",
      "2                           NaN                            NaN   \n",
      "3                           NaN                            NaN   \n",
      "4                           NaN                            NaN   \n",
      "\n",
      "   Riverwalk Pedestrians Outbound  Story Bridge East Pedestrian Inbound  \\\n",
      "0                             NaN                                   0.0   \n",
      "1                             NaN                                   0.0   \n",
      "2                             NaN                                   0.0   \n",
      "3                             NaN                                   0.0   \n",
      "4                             NaN                                   0.0   \n",
      "\n",
      "   Bicentennial Bikeway Pedestrians Outbound  \\\n",
      "0                                     1326.0   \n",
      "1                                     2731.0   \n",
      "2                                     2513.0   \n",
      "3                                     3192.0   \n",
      "4                                     2402.0   \n",
      "\n",
      "   Story Bridge West Pedestrian Outbound  \\\n",
      "0                                    0.0   \n",
      "1                                    0.0   \n",
      "2                                    0.0   \n",
      "3                                    0.0   \n",
      "4                                    0.0   \n",
      "\n",
      "   North Brisbane Bikeway Mann Park Windsor Pedestrian Outbound  \\\n",
      "0                                                NaN              \n",
      "1                                                NaN              \n",
      "2                                                NaN              \n",
      "3                                                NaN              \n",
      "4                                                NaN              \n",
      "\n",
      "   Kedron Brook Bikeway Lutwyche  \n",
      "0                            NaN  \n",
      "1                            NaN  \n",
      "2                            NaN  \n",
      "3                            NaN  \n",
      "4                          928.0  \n",
      "\n",
      "[5 rows x 66 columns]\n"
     ]
    }
   ],
   "source": [
    "print(combined.head())"
   ]
  },
  {
   "cell_type": "markdown",
   "metadata": {
    "ein.tags": "worksheet-0",
    "slideshow": {
     "slide_type": "-"
    }
   },
   "source": [
    "# Q2 - Regularised Regression"
   ]
  },
  {
   "cell_type": "code",
   "execution_count": 11,
   "metadata": {
    "autoscroll": false,
    "collapsed": false,
    "ein.hycell": false,
    "ein.tags": "worksheet-0",
    "slideshow": {
     "slide_type": "-"
    }
   },
   "outputs": [],
   "source": [
    "# want to find samples that have a small amount of data, as we want to initially\n",
    "# use as many samples as possible\n",
    "# will remove some columns that, we don't actually need (aren't covariates)\n",
    "# such as the BOM station number, etc.\n",
    "to_drop = ['Product code_x', 'Bureau of Meteorology station number_x',\n",
    "           'Product code_y', 'Bureau of Meteorology station number_y',\n",
    "           'Product code', 'Bureau of Meteorology station number',\n",
    "           'Period over which rainfall was measured (days)',\n",
    "           'Days of accumulation of maximum temperature',\n",
    "           'Quality_x', 'Quality_y']\n",
    "#print(combined.columns.values)\n",
    "combined = combined.drop(to_drop, axis=1)\n"
   ]
  },
  {
   "cell_type": "code",
   "execution_count": 12,
   "metadata": {
    "autoscroll": false,
    "collapsed": false,
    "ein.hycell": false,
    "ein.tags": "worksheet-0",
    "slideshow": {
     "slide_type": "-"
    }
   },
   "outputs": [
    {
     "name": "stdout",
     "output_type": "stream",
     "text": [
      "['Riverwalk Cyclists Outbound', 'Kedron Brook Bikeway Mitchelton', 'Kedron Brook Bikeway Lutwyche Pedestrians Outbound', 'Bishop Street Pedestrians Inbound', 'Jack Pesch Bridge Pedestrians Inbound', 'Granville Street Bridge Pedestrians Inbound', 'Ekibin Park Cyclists Outbound', 'Jack Pesch Bridge Cyclists Inbound', 'Story Bridge West Cyclists Outbound', 'Kedron Brook Bikeway Mitchelton Cyclist Outbound', 'Bishop Street Cyclists Outbound', 'Bishop Street Cyclists Inbound', 'Kedron Brook Bikeway Lutwyche Pedestrians Inbound', 'Kedron Brook Bikeway Mitchelton Cyclist Inbound', 'Ekibin Park Pedestrians Inbound', 'Jack Pesch Bridge Cyclists Outbound', 'Granville Street Bridge Pedestrians Outbound', 'Bishop Street Pedestrians Outbound', 'Granville Street Bridge Cyclists Inbound', 'Riverwalk Cyclists Inbound', 'Jack Pesch Bridge Pedestrians Outbound', 'Granville Street Bridge Cyclists Outbound', 'Kedron Brook Bikeway Lutwyche Cyclists Inbound', 'Ekibin Park Pedestrians Outbound', 'Kedron Brook Bikeway Lutwyche Cyclists Outbound', 'North Brisbane Bikeway Mann Park Windsor Cyclists Outbound', 'Kedron Brook Bikeway Mitchelton Pedestrian Inbound', 'Kedron Brook Bikeway Mitchelton Pedestrian Outbound', 'Ekibin Park Cyclists Inbound', 'Riverwalk Pedestrians Inbound', 'Riverwalk Pedestrians Outbound', 'Kedron Brook Bikeway Lutwyche']\n"
     ]
    }
   ],
   "source": [
    "# now find columns/features/covariates that have a suitable amount of data,\n",
    "# lets say 300 first\n",
    "threshold = 300\n",
    "columns_to_remove = []\n",
    "for column in combined.columns.values:\n",
    "  if np.sum(pd.isna(combined[column])) > 300:\n",
    "    # add this column to the list that should be removed\n",
    "    columns_to_remove.append(column)\n",
    "print(columns_to_remove)\n",
    "# now lets remove them\n",
    "combined = combined.drop(columns_to_remove, axis=1)"
   ]
  },
  {
   "cell_type": "code",
   "execution_count": 13,
   "metadata": {
    "autoscroll": false,
    "collapsed": false,
    "ein.hycell": false,
    "ein.tags": "worksheet-0",
    "slideshow": {
     "slide_type": "-"
    }
   },
   "outputs": [
    {
     "name": "stdout",
     "output_type": "stream",
     "text": [
      "    Rainfall amount (millimetres)       Date  Maximum temperature (Degree C)  \\\n",
      "6                            40.2 2014-01-07                            31.2   \n",
      "7                             0.4 2014-01-08                            29.6   \n",
      "8                             0.2 2014-01-09                            28.6   \n",
      "9                             1.4 2014-01-10                            27.8   \n",
      "10                            0.0 2014-01-11                            29.8   \n",
      "\n",
      "    Daily global solar exposure (MJ/m*m)  \\\n",
      "6                                   27.2   \n",
      "7                                   22.1   \n",
      "8                                   19.8   \n",
      "9                                   14.0   \n",
      "10                                  22.6   \n",
      "\n",
      "    Story Bridge West Pedestrian Inbound  Story Bridge East Cyclists Inbound  \\\n",
      "6                                    0.0                                 0.0   \n",
      "7                                    1.0                                 0.0   \n",
      "8                                  847.0                                 0.0   \n",
      "9                                  727.0                                 0.0   \n",
      "10                                 459.0                                 0.0   \n",
      "\n",
      "    Bicentennial Bikeway Cyclists Inbound  \\\n",
      "6                                   514.0   \n",
      "7                                   552.0   \n",
      "8                                   711.0   \n",
      "9                                    56.0   \n",
      "10                                   29.0   \n",
      "\n",
      "    Bicentennial Bikeway Pedestrians Inbound  \\\n",
      "6                                     1806.0   \n",
      "7                                     1804.0   \n",
      "8                                     2108.0   \n",
      "9                                     2140.0   \n",
      "10                                    1227.0   \n",
      "\n",
      "    Schulz Canal Bridge Cyclists Outbound  \\\n",
      "6                                    67.0   \n",
      "7                                    69.0   \n",
      "8                                    62.0   \n",
      "9                                   102.0   \n",
      "10                                   60.0   \n",
      "\n",
      "    Bicentennial Bikeway Cyclists Outbound  ...  \\\n",
      "6                                    579.0  ...   \n",
      "7                                    531.0  ...   \n",
      "8                                    833.0  ...   \n",
      "9                                     60.0  ...   \n",
      "10                                    35.0  ...   \n",
      "\n",
      "    Schulz Canal Bridge Pedestrians Outbound  \\\n",
      "6                                       21.0   \n",
      "7                                       24.0   \n",
      "8                                       25.0   \n",
      "9                                       21.0   \n",
      "10                                      17.0   \n",
      "\n",
      "    North Brisbane Bikeway Mann Park Windsor Cyclists Inbound  \\\n",
      "6                                                74.0           \n",
      "7                                                76.0           \n",
      "8                                               106.0           \n",
      "9                                               115.0           \n",
      "10                                               58.0           \n",
      "\n",
      "    Story Bridge East Pedestrian Outbound  Unnamed: 1  \\\n",
      "6                                     0.0        0:00   \n",
      "7                                     0.0        0:00   \n",
      "8                                     0.0        0:00   \n",
      "9                                     0.0        0:00   \n",
      "10                                    0.0        0:00   \n",
      "\n",
      "    Schulz Canal Bridge Cyclists Inbound  Story Bridge East Cyclists Outbound  \\\n",
      "6                                   82.0                                  0.0   \n",
      "7                                   75.0                                  0.0   \n",
      "8                                   69.0                                  0.0   \n",
      "9                                  112.0                                  0.0   \n",
      "10                                  97.0                                  0.0   \n",
      "\n",
      "    Story Bridge East Pedestrian Inbound  \\\n",
      "6                                    0.0   \n",
      "7                                    0.0   \n",
      "8                                    0.0   \n",
      "9                                    0.0   \n",
      "10                                   0.0   \n",
      "\n",
      "   Bicentennial Bikeway Pedestrians Outbound  \\\n",
      "6                                     2272.0   \n",
      "7                                     2324.0   \n",
      "8                                     2419.0   \n",
      "9                                     2690.0   \n",
      "10                                    1998.0   \n",
      "\n",
      "    Story Bridge West Pedestrian Outbound  \\\n",
      "6                                     0.0   \n",
      "7                                     4.0   \n",
      "8                                   811.0   \n",
      "9                                   620.0   \n",
      "10                                  421.0   \n",
      "\n",
      "    North Brisbane Bikeway Mann Park Windsor Pedestrian Outbound  \n",
      "6                                                35.0             \n",
      "7                                                36.0             \n",
      "8                                                67.0             \n",
      "9                                                40.0             \n",
      "10                                               26.0             \n",
      "\n",
      "[5 rows x 24 columns]\n",
      "Final dataset shape = (1426, 24)\n"
     ]
    }
   ],
   "source": [
    "# now drop any rows that contain a Nan, and get rid of them\n",
    "combined_filtered = combined.dropna(axis=0)\n",
    "# lets have a look at the final data set\n",
    "print(combined_filtered.head())\n",
    "print('Final dataset shape = {}'.format(combined_filtered.shape))"
   ]
  },
  {
   "cell_type": "code",
   "execution_count": 14,
   "metadata": {
    "autoscroll": false,
    "collapsed": false,
    "ein.hycell": false,
    "ein.tags": "worksheet-0",
    "slideshow": {
     "slide_type": "-"
    }
   },
   "outputs": [
    {
     "name": "stdout",
     "output_type": "stream",
     "text": [
      "num train = 888\n",
      "val train = 277\n",
      "test train = 261\n"
     ]
    }
   ],
   "source": [
    "# split into train/test split\n",
    "train = combined_filtered[combined_filtered.Date < datetime(year=2017, month=1, day=1)]\n",
    "val = combined_filtered[((combined_filtered.Date >= datetime(year=2017, month=1, day=1)) &\n",
    "                        (combined_filtered.Date < datetime(year=2018, month=1, day=1)))]\n",
    "test = combined_filtered[((combined_filtered.Date >= datetime(year=2018, month=1, day=1)) &\n",
    "                          (combined_filtered.Date < datetime(year=2019, month=1, day=1)))]\n",
    "print('num train = {}'.format(train.shape[0]))\n",
    "print('val train = {}'.format(val.shape[0]))\n",
    "print('test train = {}'.format(test.shape[0]))"
   ]
  },
  {
   "cell_type": "code",
   "execution_count": 15,
   "metadata": {
    "autoscroll": false,
    "collapsed": false,
    "ein.hycell": false,
    "ein.tags": "worksheet-0",
    "slideshow": {
     "slide_type": "-"
    }
   },
   "outputs": [
    {
     "name": "stdout",
     "output_type": "stream",
     "text": [
      "['Rainfall amount (millimetres)', 'Daily global solar exposure (MJ/m*m)', 'Maximum temperature (Degree C)', 'Story Bridge East Cyclists Inbound', 'Story Bridge West Cyclists Inbound', 'North Brisbane Bikeway Mann Park Windsor Cyclists Inbound', 'Schulz Canal Bridge Cyclists Inbound']\n",
      "                            OLS Regression Results                            \n",
      "==============================================================================\n",
      "Dep. Variable:                      y   R-squared:                       0.448\n",
      "Model:                            OLS   Adj. R-squared:                  0.443\n",
      "Method:                 Least Squares   F-statistic:                     101.8\n",
      "Date:                Mon, 02 Mar 2020   Prob (F-statistic):          7.02e-109\n",
      "Time:                        09:34:02   Log-Likelihood:                -6923.2\n",
      "No. Observations:                 888   AIC:                         1.386e+04\n",
      "Df Residuals:                     880   BIC:                         1.390e+04\n",
      "Df Model:                           7                                         \n",
      "Covariance Type:            nonrobust                                         \n",
      "==============================================================================\n",
      "                 coef    std err          t      P>|t|      [0.025      0.975]\n",
      "------------------------------------------------------------------------------\n",
      "const        376.0037    152.750      2.462      0.014      76.207     675.800\n",
      "x1            -1.0902      1.710     -0.637      0.524      -4.447       2.267\n",
      "x2            -0.8712      4.240     -0.205      0.837      -9.194       7.451\n",
      "x3           -16.3834      6.768     -2.421      0.016     -29.667      -3.100\n",
      "x4             1.9441      0.110     17.711      0.000       1.729       2.160\n",
      "x5             1.1797      0.106     11.082      0.000       0.971       1.389\n",
      "x6            -0.5295      0.594     -0.891      0.373      -1.696       0.637\n",
      "x7             3.8795      1.118      3.469      0.001       1.685       6.074\n",
      "==============================================================================\n",
      "Omnibus:                      138.557   Durbin-Watson:                   0.516\n",
      "Prob(Omnibus):                  0.000   Jarque-Bera (JB):              206.494\n",
      "Skew:                          -1.087   Prob(JB):                     1.45e-45\n",
      "Kurtosis:                       3.923   Cond. No.                     3.96e+03\n",
      "==============================================================================\n",
      "\n",
      "Warnings:\n",
      "[1] Standard Errors assume that the covariance matrix of the errors is correctly specified.\n",
      "[2] The condition number is large, 3.96e+03. This might indicate that there are\n",
      "strong multicollinearity or other numerical problems.\n",
      "[376.00367679  -1.09017649  -0.87122777 -16.38338683   1.94413674\n",
      "   1.17971302  -0.52947113   3.87953453]\n"
     ]
    },
    {
     "data": {
      "image/png": "[encoded data removed]",
      "text/plain": [
       "<Figure size 576x432 with 1 Axes>"
      ]
     },
     "metadata": {},
     "output_type": "display_data"
    }
   ],
   "source": [
    "# now perform linear regression using Ordinary Least Squares\n",
    "# want to use all weather data from the BOM\n",
    "X_bom = ['Rainfall amount (millimetres)',\n",
    "         'Daily global solar exposure (MJ/m*m)',\n",
    "         'Maximum temperature (Degree C)']\n",
    "# want to use all variables cyclist inbound variables\n",
    "X_bcc = [x for x in train.columns.values if 'Cyclists Inbound' in x]\n",
    "# remove the response variable from here\n",
    "X_bcc.remove('Bicentennial Bikeway Cyclists Inbound')\n",
    "# combine this list of variables together by just extending the\n",
    "# BOM data with the BCC data\n",
    "X_variables = X_bom + X_bcc\n",
    "print(X_variables)\n",
    "Y_train = np.array(\n",
    "  train['Bicentennial Bikeway Cyclists Inbound'], dtype=np.float64)\n",
    "X_train = np.array(train[X_variables], dtype=np.float64)\n",
    "# want to add a constant to the model (the y-axis intercept)\n",
    "X_train = sm.add_constant(X_train)\n",
    "# create the linear model\n",
    "model = sm.OLS(Y_train, X_train)\n",
    "\n",
    "# fit the model without any regularisation\n",
    "unreg = model.fit()\n",
    "print(unreg.summary())\n",
    "print(unreg.params)\n",
    "\n",
    "fig, ax = plt.subplots(figsize=(8,6))\n",
    "sm.qqplot(unreg.resid, ax=ax, line='s')\n",
    "plt.title('Q-Q Plot for Linear Regression')\n",
    "plt.show()"
   ]
  },
  {
   "cell_type": "code",
   "execution_count": 16,
   "metadata": {
    "autoscroll": false,
    "collapsed": false,
    "ein.hycell": false,
    "ein.tags": "worksheet-0",
    "slideshow": {
     "slide_type": "-"
    }
   },
   "outputs": [],
   "source": [
    "# fit the model with L2 regularisation (Ridge Regression)\n",
    "unreg = model.fit_regularized()"
   ]
  }
 ],
 "metadata": {
  "kernelspec": {
   "argv": [
    "python",
    "-m",
    "ipykernel_launcher",
    "-f",
    "{connection_file}"
   ],
   "display_name": "Python 3",
   "env": null,
   "interrupt_mode": "signal",
   "language": "python",
   "metadata": null,
   "name": "python3"
  },
  "language_info": {
   "codemirror_mode": {
    "name": "ipython",
    "version": 3
   },
   "file_extension": ".py",
   "mimetype": "text/x-python",
   "name": "python",
   "nbconvert_exporter": "python",
   "pygments_lexer": "ipython3",
   "version": "3.7.1"
  },
  "name": "tute_1.ipynb"
 },
 "nbformat": 4,
 "nbformat_minor": 4
}
