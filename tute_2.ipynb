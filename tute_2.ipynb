{
 "cells": [
  {
   "cell_type": "markdown",
   "metadata": {
    "ein.tags": "worksheet-0",
    "slideshow": {
     "slide_type": "-"
    }
   },
   "source": [
    "# Tute 2 - Regualarised Regression"
   ]
  },
  {
   "cell_type": "code",
   "execution_count": 1,
   "metadata": {
    "autoscroll": false,
    "ein.hycell": false,
    "ein.tags": "worksheet-0",
    "slideshow": {
     "slide_type": "-"
    }
   },
   "outputs": [],
   "source": [
    "# import all the important packages\n",
    "\n",
    "# numpy handles pretty much anything that is a number/vector/matrix/array\n",
    "import numpy as np\n",
    "# pandas handles dataframes (exactly the same as tables in Matlab)\n",
    "import pandas as pd\n",
    "# matplotlib emulates Matlabs plotting functionality\n",
    "import matplotlib.pyplot as plt\n",
    "# stats models is a package that is going to perform the regression analysis\n",
    "from statsmodels import api as sm\n",
    "from scipy import stats\n",
    "from sklearn.metrics import mean_squared_error\n",
    "# os allows us to manipulate variables on out local machine, such as paths and environment variables\n",
    "import os\n",
    "# self explainatory, dates and times\n",
    "from datetime import datetime, date\n",
    "# a helper package to help us iterate over objects\n",
    "import itertools"
   ]
  },
  {
   "cell_type": "code",
   "execution_count": 2,
   "metadata": {
    "autoscroll": false,
    "ein.hycell": false,
    "ein.tags": "worksheet-0",
    "slideshow": {
     "slide_type": "-"
    }
   },
   "outputs": [
    {
     "name": "stdout",
     "output_type": "stream",
     "text": [
      "   Unnamed: 0  Rainfall amount (millimetres)       Date  \\\n",
      "0         169                            0.0 2014-06-19   \n",
      "1         170                            5.8 2014-06-20   \n",
      "2         171                            0.0 2014-06-21   \n",
      "3         172                            5.2 2014-06-22   \n",
      "4         173                            0.2 2014-06-23   \n",
      "\n",
      "   Maximum temperature (Degree C)  Daily global solar exposure (MJ/m*m)  \\\n",
      "0                            20.3                                   8.0   \n",
      "1                            22.5                                   9.1   \n",
      "2                            25.6                                  12.9   \n",
      "3                            24.2                                  13.0   \n",
      "4                            24.1                                  13.6   \n",
      "\n",
      "   Story Bridge West Pedestrian Inbound  \\\n",
      "0                                   0.0   \n",
      "1                                   0.0   \n",
      "2                                   0.0   \n",
      "3                                   0.0   \n",
      "4                                   0.0   \n",
      "\n",
      "   North Brisbane Bikeway Mann Park Windsor Pedestrian Outbound  \\\n",
      "0                                                0.0              \n",
      "1                                                0.0              \n",
      "2                                                0.0              \n",
      "3                                                0.0              \n",
      "4                                                0.0              \n",
      "\n",
      "   Story Bridge East Pedestrian Outbound  \\\n",
      "0                                    0.0   \n",
      "1                                    0.0   \n",
      "2                                    0.0   \n",
      "3                                    0.0   \n",
      "4                                    0.0   \n",
      "\n",
      "   Bicentennial Bikeway Pedestrians Outbound  \\\n",
      "0                                     1900.0   \n",
      "1                                     1586.0   \n",
      "2                                     1847.0   \n",
      "3                                     2126.0   \n",
      "4                                     2180.0   \n",
      "\n",
      "   Schulz Canal Bridge Cyclists Outbound  ...  \\\n",
      "0                                   55.0  ...   \n",
      "1                                   49.0  ...   \n",
      "2                                   67.0  ...   \n",
      "3                                   76.0  ...   \n",
      "4                                   69.0  ...   \n",
      "\n",
      "   Bicentennial Bikeway Pedestrians Inbound  \\\n",
      "0                                    1630.0   \n",
      "1                                    1170.0   \n",
      "2                                    1289.0   \n",
      "3                                    1542.0   \n",
      "4                                    1862.0   \n",
      "\n",
      "   Story Bridge East Pedestrian Inbound  Bicenntenial Bikeway  \\\n",
      "0                                   0.0                4223.0   \n",
      "1                                   0.0                3619.0   \n",
      "2                                   0.0                4423.0   \n",
      "3                                   0.0                5023.0   \n",
      "4                                   0.0                5329.0   \n",
      "\n",
      "   Story Bridge West Cyclists Inbound  Story Bridge East Cyclists Outbound  \\\n",
      "0                                 0.0                                  0.0   \n",
      "1                                 0.0                                  0.0   \n",
      "2                                 0.0                                  0.0   \n",
      "3                                 0.0                                  0.0   \n",
      "4                                 0.0                                  0.0   \n",
      "\n",
      "   North Brisbane Bikeway Mann Park Windsor Pedestrian Inbound  \\\n",
      "0                                                0.0             \n",
      "1                                                0.0             \n",
      "2                                                0.0             \n",
      "3                                                0.0             \n",
      "4                                                0.0             \n",
      "\n",
      "   Schulz Canal Bridge Pedestrians Outbound  \\\n",
      "0                                      20.0   \n",
      "1                                      20.0   \n",
      "2                                      33.0   \n",
      "3                                      21.0   \n",
      "4                                      24.0   \n",
      "\n",
      "   Story Bridge West Pedestrian Outbound  \\\n",
      "0                                    0.0   \n",
      "1                                    0.0   \n",
      "2                                    0.0   \n",
      "3                                    0.0   \n",
      "4                                    0.0   \n",
      "\n",
      "   North Brisbane Bikeway Mann Park Windsor Cyclists Inbound  Unnamed: 1  \n",
      "0                                                0.0                0:00  \n",
      "1                                                0.0                0:00  \n",
      "2                                                0.0                0:00  \n",
      "3                                                0.0                0:00  \n",
      "4                                                0.0                0:00  \n",
      "\n",
      "[5 rows x 25 columns]\n"
     ]
    }
   ],
   "source": [
    "# loading in the combined data from the previous tute\n",
    "combined_filtered = pd.read_csv('./tute2_data/combined.csv')\n",
    "# make sure the Date column is interpreted correctly as a datetime object\n",
    "combined_filtered.Date = pd.to_datetime(combined_filtered.Date, format='%Y-%m-%d')\n",
    "print(combined_filtered.head())"
   ]
  },
  {
   "cell_type": "code",
   "execution_count": 3,
   "metadata": {
    "autoscroll": false,
    "ein.hycell": false,
    "ein.tags": "worksheet-0",
    "slideshow": {
     "slide_type": "-"
    }
   },
   "outputs": [
    {
     "name": "stdout",
     "output_type": "stream",
     "text": [
      "num train = 888\n",
      "val train = 276\n",
      "test train = 258\n"
     ]
    }
   ],
   "source": [
    "train = combined_filtered[combined_filtered.Date < datetime(year=2017, month=1, day=1)]\n",
    "val = combined_filtered[((combined_filtered.Date >= datetime(year=2017, month=1, day=1)) &\n",
    "                        (combined_filtered.Date < datetime(year=2018, month=1, day=1)))]\n",
    "test = combined_filtered[((combined_filtered.Date >= datetime(year=2018, month=1, day=1)) &\n",
    "                          (combined_filtered.Date < datetime(year=2019, month=1, day=1)))]\n",
    "print('num train = {}'.format(train.shape[0]))\n",
    "print('val train = {}'.format(val.shape[0]))\n",
    "print('test train = {}'.format(test.shape[0]))"
   ]
  },
  {
   "cell_type": "markdown",
   "metadata": {
    "ein.tags": "worksheet-0",
    "slideshow": {
     "slide_type": "-"
    }
   },
   "source": [
    "#Q1 - Overfitting Linear Regression\n",
    "\n",
    "In the week 1 practical, you developed a model to predict cyclist counts at a single counter. Using the same data and starting from the initial model before terms were remove, overcomplicate it such that it overfits to the training data. The easiest way to do this is by including a large number of higher order (i.e. interaction, quadratic and higher order polynomial) terms. \n",
    "Verify that the model has overfit through evaluating on the validation and testing datasets, and compare it’s performance to the simple model that you started with."
   ]
  },
  {
   "cell_type": "code",
   "execution_count": 4,
   "metadata": {
    "autoscroll": false,
    "ein.hycell": false,
    "ein.tags": "worksheet-0",
    "slideshow": {
     "slide_type": "-"
    }
   },
   "outputs": [
    {
     "name": "stdout",
     "output_type": "stream",
     "text": [
      "Linear Model RMSE = 623.3791739360698\n",
      "                            OLS Regression Results                            \n",
      "==============================================================================\n",
      "Dep. Variable:                      y   R-squared:                       0.474\n",
      "Model:                            OLS   Adj. R-squared:                  0.469\n",
      "Method:                 Least Squares   F-statistic:                     113.1\n",
      "Date:                Fri, 06 Mar 2020   Prob (F-statistic):          4.59e-118\n",
      "Time:                        11:37:47   Log-Likelihood:                -6899.6\n",
      "No. Observations:                 888   AIC:                         1.382e+04\n",
      "Df Residuals:                     880   BIC:                         1.385e+04\n",
      "Df Model:                           7                                         \n",
      "Covariance Type:            nonrobust                                         \n",
      "==============================================================================\n",
      "                 coef    std err          t      P>|t|      [0.025      0.975]\n",
      "------------------------------------------------------------------------------\n",
      "const        739.2276    142.489      5.188      0.000     459.569    1018.886\n",
      "x1            -2.1218      1.726     -1.230      0.219      -5.509       1.265\n",
      "x2            -5.9035      4.200     -1.406      0.160     -14.146       2.339\n",
      "x3           -34.0164      6.637     -5.125      0.000     -47.042     -20.990\n",
      "x4             6.2318      1.169      5.330      0.000       3.937       8.527\n",
      "x5             1.9407      0.108     17.964      0.000       1.729       2.153\n",
      "x6             1.1847      0.104     11.385      0.000       0.980       1.389\n",
      "x7            -0.4872      0.585     -0.833      0.405      -1.635       0.661\n",
      "==============================================================================\n",
      "Omnibus:                      150.696   Durbin-Watson:                   0.247\n",
      "Prob(Omnibus):                  0.000   Jarque-Bera (JB):              233.912\n",
      "Skew:                          -1.139   Prob(JB):                     1.61e-51\n",
      "Kurtosis:                       4.062   Cond. No.                     3.79e+03\n",
      "==============================================================================\n",
      "\n",
      "Warnings:\n",
      "[1] Standard Errors assume that the covariance matrix of the errors is correctly specified.\n",
      "[2] The condition number is large, 3.79e+03. This might indicate that there are\n",
      "strong multicollinearity or other numerical problems.\n",
      "[ 7.39227580e+02 -2.12180551e+00 -5.90348877e+00 -3.40164060e+01\n",
      "  6.23180686e+00  1.94071221e+00  1.18469111e+00 -4.87249158e-01]\n"
     ]
    },
    {
     "data": {
      "image/png": "[encoded data removed]",
      "text/plain": [
       "<Figure size 576x432 with 1 Axes>"
      ]
     },
     "metadata": {
      "needs_background": "light"
     },
     "output_type": "display_data"
    }
   ],
   "source": [
    "# lets start with the model we had from last week\n",
    "# now perform linear regression using Ordinary Least Squares\n",
    "# want to use all weather data from the BOM\n",
    "X_bom = ['Rainfall amount (millimetres)',\n",
    "         'Daily global solar exposure (MJ/m*m)',\n",
    "         'Maximum temperature (Degree C)']\n",
    "# want to use all variables cyclist inbound variables\n",
    "X_bcc = [x for x in train.columns.values if 'Cyclists Inbound' in x]\n",
    "# remove the response variable from here\n",
    "X_bcc.remove('Bicentennial Bikeway Cyclists Inbound')\n",
    "# combine this list of variables together by just extending the\n",
    "# BOM data with the BCC data\n",
    "X_variables_linear = X_bom + X_bcc\n",
    "Y_variable = 'Bicentennial Bikeway Cyclists Inbound'\n",
    "Y_train = np.array(train[Y_variable], dtype=np.float64)\n",
    "X_train = np.array(train[X_variables_linear], dtype=np.float64)\n",
    "# want to add a constant to the model (the y-axis intercept)\n",
    "X_train_constant = sm.add_constant(X_train)\n",
    "# also creating validation data\n",
    "Y_val = np.array(val[Y_variable], dtype=np.float64)\n",
    "X_val = np.array(val[X_variables_linear], dtype=np.float64)\n",
    "X_val_constant = sm.add_constant(X_val)\n",
    "# will create our test data as well, we will need it later on\n",
    "Y_test = np.array(test[Y_variable], dtype=np.float64)\n",
    "X_test = np.array(test[X_variables_linear], dtype=np.float64)\n",
    "# create the linear model\n",
    "model = sm.OLS(Y_train, X_train_constant)\n",
    "# fit the model without any regularisation\n",
    "model_1_fit = model.fit()\n",
    "pred = model_1_fit.predict(X_val_constant)\n",
    "print('Linear Model RMSE = {}'.format(\n",
    "  np.sqrt(mean_squared_error(Y_val, model_1_fit.predict(X_val_constant)))))\n",
    "print(model_1_fit.summary())\n",
    "print(model_1_fit.params)\n",
    "fig, ax = plt.subplots(figsize=(8,6))\n",
    "sm.qqplot(model_1_fit.resid, ax=ax, line='s')\n",
    "plt.title('Q-Q Plot for Linear Regression')\n",
    "plt.show()\n"
   ]
  },
  {
   "cell_type": "markdown",
   "metadata": {
    "ein.tags": "worksheet-0",
    "slideshow": {
     "slide_type": "-"
    }
   },
   "source": [
    "Want to add some quadratic terms to our model."
   ]
  },
  {
   "cell_type": "code",
   "execution_count": 5,
   "metadata": {
    "autoscroll": false,
    "ein.hycell": false,
    "ein.tags": "worksheet-0",
    "slideshow": {
     "slide_type": "-"
    }
   },
   "outputs": [],
   "source": [
    "def x2fx_quadratic(row, arg_name):\n",
    "  \"\"\"Will create a quadratic version of our variable of interest\n",
    "  \n",
    "  Is intended to be applied to a Pandas dataframe using the `apply()` method.\n",
    "\n",
    "  Similar to the `x2fx()` function in Matlab.\n",
    "\n",
    "  Args:\n",
    "    row (pd.Series):\n",
    "      row in the original pandas dataframe we are applying the function to\n",
    "    args_name (str):\n",
    "      column name to to which we are indexing from the original dataframe\n",
    "    \n",
    "  Returns:\n",
    "    A pandas Series which will contain row[arg_name] ^ 2\n",
    "  \"\"\"\n",
    "  return np.square(row[arg_name])\n",
    "\n",
    "\n",
    "def x2fx(x, model='quadratic'):\n",
    "  from itertools import combinations as comb\n",
    "  linear = np.c_[np.ones(x.shape[0]), x]\n",
    "  if model == 'linear':\n",
    "    return linear\n",
    "  if model == 'purequadratic':\n",
    "    return np.c_[linear, x**2]\n",
    "\n",
    "  interaction = np.vstack([x[:,i]*x[:,j] for i, j in\n",
    "                           comb(range(x.shape[1]), 2)]).T\n",
    "  print(interaction.shape)\n",
    "  if model == 'interaction':\n",
    "    return np.c_[linear, interaction]\n",
    "  if model == 'quadratic':\n",
    "    return np.c_[linear, interaction, x**2]\n",
    "  "
   ]
  },
  {
   "cell_type": "code",
   "execution_count": 14,
   "metadata": {
    "autoscroll": false,
    "ein.hycell": false,
    "ein.tags": "worksheet-0",
    "slideshow": {
     "slide_type": "-"
    }
   },
   "outputs": [
    {
     "name": "stdout",
     "output_type": "stream",
     "text": [
      "(888, 7)\n",
      "(888, 21)\n",
      "(276, 21)\n",
      "(258, 21)\n",
      "(888, 36)\n",
      "(276, 36)\n"
     ]
    }
   ],
   "source": [
    "print(X_train.shape)\n",
    "X_train_complex = x2fx(X_train)\n",
    "X_val_complex = x2fx(X_val)\n",
    "X_test_complex = x2fx(X_test)\n",
    "print(X_train_complex.shape)\n",
    "print(X_val_complex.shape)"
   ]
  },
  {
   "cell_type": "code",
   "execution_count": 15,
   "metadata": {
    "autoscroll": false,
    "ein.hycell": false,
    "ein.tags": "worksheet-0",
    "slideshow": {
     "slide_type": "-"
    }
   },
   "outputs": [
    {
     "name": "stdout",
     "output_type": "stream",
     "text": [
      "1.0.1\n"
     ]
    }
   ],
   "source": [
    "print(pd.__version__)"
   ]
  },
  {
   "cell_type": "code",
   "execution_count": 18,
   "metadata": {
    "autoscroll": false,
    "ein.hycell": false,
    "ein.tags": "worksheet-0",
    "slideshow": {
     "slide_type": "-"
    }
   },
   "outputs": [
    {
     "name": "stdout",
     "output_type": "stream",
     "text": [
      "Model 2: Quadratic Variables RMSE = 788.1013862359443\n",
      "                            OLS Regression Results                            \n",
      "==============================================================================\n",
      "Dep. Variable:                      y   R-squared:                       0.545\n",
      "Model:                            OLS   Adj. R-squared:                  0.527\n",
      "Method:                 Least Squares   F-statistic:                     29.20\n",
      "Date:                Fri, 06 Mar 2020   Prob (F-statistic):          2.72e-121\n",
      "Time:                        12:22:09   Log-Likelihood:                -6834.5\n",
      "No. Observations:                 888   AIC:                         1.374e+04\n",
      "Df Residuals:                     852   BIC:                         1.391e+04\n",
      "Df Model:                          35                                         \n",
      "Covariance Type:            nonrobust                                         \n",
      "==============================================================================\n",
      "                 coef    std err          t      P>|t|      [0.025      0.975]\n",
      "------------------------------------------------------------------------------\n",
      "const       2639.1474    769.975      3.428      0.001    1127.877    4150.418\n",
      "x1             5.4862     16.879      0.325      0.745     -27.643      38.615\n",
      "x2           -63.2249     37.134     -1.703      0.089    -136.109       9.660\n",
      "x3          -157.1253     65.175     -2.411      0.016    -285.048     -29.202\n",
      "x4             9.2293      8.583      1.075      0.283      -7.617      26.076\n",
      "x5             1.1790      0.882      1.337      0.182      -0.552       2.910\n",
      "x6            -1.8811      0.843     -2.232      0.026      -3.535      -0.227\n",
      "x7            10.4773      4.518      2.319      0.021       1.609      19.346\n",
      "x8             0.3223      0.445      0.724      0.470      -0.552       1.196\n",
      "x9            -0.2491      0.618     -0.403      0.687      -1.461       0.963\n",
      "x10            0.0537      0.133      0.404      0.686      -0.207       0.315\n",
      "x11           -0.0054      0.015     -0.352      0.725      -0.035       0.025\n",
      "x12           -0.0058      0.021     -0.273      0.785      -0.047       0.036\n",
      "x13           -0.0423      0.096     -0.443      0.658      -0.230       0.145\n",
      "x14            1.4809      1.591      0.931      0.352      -1.642       4.604\n",
      "x15           -0.5734      0.261     -2.200      0.028      -1.085      -0.062\n",
      "x16            0.0339      0.025      1.379      0.168      -0.014       0.082\n",
      "x17           -0.0794      0.025     -3.127      0.002      -0.129      -0.030\n",
      "x18            0.1695      0.136      1.247      0.213      -0.097       0.436\n",
      "x19            0.1398      0.402      0.348      0.728      -0.650       0.929\n",
      "x20            0.0298      0.040      0.754      0.451      -0.048       0.107\n",
      "x21            0.1334      0.041      3.247      0.001       0.053       0.214\n",
      "x22           -0.8549      0.212     -4.030      0.000      -1.271      -0.439\n",
      "x23           -0.0116      0.007     -1.614      0.107      -0.026       0.003\n",
      "x24           -0.0091      0.007     -1.231      0.218      -0.024       0.005\n",
      "x25            0.0434      0.036      1.209      0.227      -0.027       0.114\n",
      "x26            0.0025      0.001      3.547      0.000       0.001       0.004\n",
      "x27           -0.0086      0.003     -2.587      0.010      -0.015      -0.002\n",
      "x28            0.0062      0.003      1.876      0.061      -0.000       0.013\n",
      "x29           -0.0314      0.047     -0.674      0.501      -0.123       0.060\n",
      "x30            1.7019      0.658      2.586      0.010       0.410       2.994\n",
      "x31            2.1777      1.544      1.410      0.159      -0.854       5.209\n",
      "x32            0.0262      0.048      0.549      0.583      -0.068       0.120\n",
      "x33            0.0015      0.001      2.844      0.005       0.000       0.003\n",
      "x34            0.0013      0.000      2.764      0.006       0.000       0.002\n",
      "x35            0.0204      0.012      1.646      0.100      -0.004       0.045\n",
      "==============================================================================\n",
      "Omnibus:                      127.465   Durbin-Watson:                   0.434\n",
      "Prob(Omnibus):                  0.000   Jarque-Bera (JB):              195.074\n",
      "Skew:                          -0.971   Prob(JB):                     4.37e-43\n",
      "Kurtosis:                       4.225   Cond. No.                     1.34e+07\n",
      "==============================================================================\n",
      "\n",
      "Warnings:\n",
      "[1] Standard Errors assume that the covariance matrix of the errors is correctly specified.\n",
      "[2] The condition number is large, 1.34e+07. This might indicate that there are\n",
      "strong multicollinearity or other numerical problems.\n",
      "[ 2.63914737e+03  5.48616664e+00 -6.32249208e+01 -1.57125303e+02\n",
      "  9.22926471e+00  1.17896880e+00 -1.88105220e+00  1.04772658e+01\n",
      "  3.22258290e-01 -2.49069525e-01  5.37315263e-02 -5.35157420e-03\n",
      " -5.76485665e-03 -4.23305700e-02  1.48091712e+00 -5.73409814e-01\n",
      "  3.39089957e-02 -7.93529705e-02  1.69451507e-01  1.39846953e-01\n",
      "  2.98175035e-02  1.33389613e-01 -8.54868225e-01 -1.16017122e-02\n",
      " -9.09519575e-03  4.33951936e-02  2.53860772e-03 -8.59267942e-03\n",
      "  6.15840680e-03 -3.14120505e-02  1.70185732e+00  2.17772337e+00\n",
      "  2.62326661e-02  1.50064366e-03  1.25187393e-03  2.03650572e-02]\n"
     ]
    },
    {
     "data": {
      "image/png": "[encoded data removed]",
      "text/plain": [
       "<Figure size 576x432 with 1 Axes>"
      ]
     },
     "metadata": {
      "needs_background": "light"
     },
     "output_type": "display_data"
    }
   ],
   "source": [
    "model = sm.OLS(Y_train, X_train_complex)\n",
    "# fit the model without any regularisation\n",
    "model_2_fit = model.fit()\n",
    "pred = model_2_fit.predict(X_val_complex)\n",
    "print('Model 2: Quadratic Variables RMSE = {}'.format(\n",
    "  np.sqrt(mean_squared_error(Y_val, model_2_fit.predict(X_val_complex)))))\n",
    "print(model_2_fit.summary())\n",
    "print(model_2_fit.params)\n",
    "fig, ax = plt.subplots(figsize=(8,6))\n",
    "sm.qqplot(model_2_fit.resid, ax=ax, line='s')\n",
    "plt.title('Q-Q Plot for Model 2: Quadratic Variables')\n",
    "plt.show()\n"
   ]
  },
  {
   "cell_type": "markdown",
   "metadata": {
    "ein.tags": "worksheet-0",
    "slideshow": {
     "slide_type": "-"
    }
   },
   "source": [
    "## Standardise data set "
   ]
  },
  {
   "cell_type": "code",
   "execution_count": 8,
   "metadata": {
    "autoscroll": false,
    "ein.hycell": false,
    "ein.tags": "worksheet-0",
    "slideshow": {
     "slide_type": "-"
    }
   },
   "outputs": [],
   "source": [
    "def standardise(data):\n",
    "  \"\"\" Standardise/Normalise data to have zero mean and unit variance\n",
    "\n",
    "  Args:\n",
    "    data (np.array):\n",
    "      data we want to standardise (usually covariates)\n",
    "\n",
    "    Returns:\n",
    "      Standardised data, mean of data, standard deviation of data\n",
    "  \"\"\"\n",
    "  mu = np.mean(data)\n",
    "  sigma = np.std(data)\n",
    "  scaled = (data - mu) / sigma\n",
    "  return scaled, mu, sigma"
   ]
  },
  {
   "cell_type": "markdown",
   "metadata": {
    "ein.tags": "worksheet-0",
    "slideshow": {
     "slide_type": "-"
    }
   },
   "source": [
    "Now will normalise the training data set, and will use mean and standard deviation of the training data to standardisse the validation and test data"
   ]
  },
  {
   "cell_type": "code",
   "execution_count": 9,
   "metadata": {
    "autoscroll": false,
    "ein.hycell": false,
    "ein.tags": "worksheet-0",
    "slideshow": {
     "slide_type": "-"
    }
   },
   "outputs": [],
   "source": [
    "X_train_std, mu_train, sigma_train = standardise(X_train)\n",
    "Y_train_std, mu_test, sigma_test = standardise(Y_train)\n",
    "X_val_std = (X_val - mu_train)/sigma_train\n",
    "Y_val_std = (Y_val - mu_test)/sigma_test\n",
    "X_test_std = (X_test - mu_train)/sigma_train\n",
    "Y_test_std = (Y_test - mu_test)/sigma_test\n",
    "\n",
    "X_train_complex_std, mu_train_complex, sigma_train_complex = standardise(X_train_complex)\n",
    "X_val_complex_std = (X_val_complex - mu_train_complex)/sigma_train_complex\n",
    "X_test_complex_std = (X_test_complex - mu_train_complex)/sigma_train_complex"
   ]
  },
  {
   "cell_type": "code",
   "execution_count": 10,
   "metadata": {
    "autoscroll": false,
    "ein.hycell": false,
    "ein.tags": "worksheet-0",
    "slideshow": {
     "slide_type": "-"
    }
   },
   "outputs": [
    {
     "name": "stdout",
     "output_type": "stream",
     "text": [
      "Model 3: L1 RMSE = 620.2903612480512\n",
      "[ -1.41911608 -15.84494336  -4.83940332   7.48862925   1.9102867\n",
      "   1.16268124  -0.12017558]\n"
     ]
    },
    {
     "data": {
      "image/png": "[encoded data removed]",
      "text/plain": [
       "<Figure size 576x432 with 1 Axes>"
      ]
     },
     "metadata": {
      "needs_background": "light"
     },
     "output_type": "display_data"
    }
   ],
   "source": [
    "# quick test with normalised regression\n",
    "model_3 = sm.OLS(Y_train, X_train)\n",
    "\n",
    "model_3_fit = model_3.fit_regularized(alpha=1.0, L1_wt=1)\n",
    "# to get L1 regression, need to set the L1_wt flag to 1 in the fit_regularzed method\n",
    "pred = model_3_fit.predict(X_val)\n",
    "print('Model 3: L1 RMSE = {}'.format(\n",
    "  np.sqrt(mean_squared_error(Y_val, model_3_fit.predict(X_val)))))\n",
    "print(model_3_fit.params)\n",
    "fig, ax = plt.subplots(figsize=(8,6))\n",
    "sm.qqplot(model_2_fit.resid, ax=ax, line='s')\n",
    "plt.title('Q-Q Plot for Model 3: Lasso')\n",
    "plt.show()\n"
   ]
  },
  {
   "cell_type": "code",
   "execution_count": 11,
   "metadata": {
    "autoscroll": false,
    "ein.hycell": false,
    "ein.tags": "worksheet-0",
    "slideshow": {
     "slide_type": "-"
    }
   },
   "outputs": [
    {
     "name": "stdout",
     "output_type": "stream",
     "text": [
      "Model 3: L2 RMSE = 614.3121609428285\n",
      "[ -1.47047376 -12.88322479  -5.37320333   7.18088458   1.91603196\n",
      "   1.15566736  -0.23142138]\n"
     ]
    },
    {
     "data": {
      "image/png": "[encoded data removed]",
      "text/plain": [
       "<Figure size 576x432 with 1 Axes>"
      ]
     },
     "metadata": {
      "needs_background": "light"
     },
     "output_type": "display_data"
    }
   ],
   "source": [
    "# L2 Regression\n",
    "model_3_fit = model_3.fit_regularized(alpha=1.0, L1_wt=0)\n",
    "# to get L1 regression, need to set the L1_wt flag to 1 in the fit_regularzed method\n",
    "pred = model_3_fit.predict(X_val)\n",
    "print('Model 3: L2 RMSE = {}'.format(\n",
    "  np.sqrt(mean_squared_error(Y_val, model_3_fit.predict(X_val)))))\n",
    "print(model_3_fit.params)\n",
    "fig, ax = plt.subplots(figsize=(8,6))\n",
    "sm.qqplot(model_2_fit.resid, ax=ax, line='s')\n",
    "plt.title('Q-Q Plot for Model 3: Lasso')\n",
    "plt.show()"
   ]
  },
  {
   "cell_type": "code",
   "execution_count": 12,
   "metadata": {
    "autoscroll": false,
    "ein.hycell": false,
    "ein.tags": "worksheet-0",
    "slideshow": {
     "slide_type": "-"
    }
   },
   "outputs": [],
   "source": [
    "def rSquared(actual, predicted):\n",
    "  sst = np.var(actual) * actual.size;\n",
    "  sse = np.sum((actual - predicted)**2);\n",
    "  r2 = 1 - sse/sst;\n",
    "  return r2"
   ]
  },
  {
   "cell_type": "code",
   "execution_count": 13,
   "metadata": {
    "autoscroll": false,
    "ein.hycell": false,
    "ein.tags": "worksheet-0",
    "slideshow": {
     "slide_type": "-"
    }
   },
   "outputs": [],
   "source": [
    "def adj_r2(actual, predicted, n, p):\n",
    "  sst = np.var(actual)* np.size(actual)\n",
    "  sse = np.sum((actual - predicted)**2)\n",
    "  adjr2 = 1 - ((n - 1)/(n - p - 1))*(sse/sst);\n",
    "  return adjr2"
   ]
  },
  {
   "cell_type": "code",
   "execution_count": null,
   "metadata": {
    "autoscroll": false,
    "ein.hycell": false,
    "ein.tags": "worksheet-0",
    "slideshow": {
     "slide_type": "-"
    }
   },
   "outputs": [],
   "source": []
  }
 ],
 "metadata": {
  "kernelspec": {
   "display_name": "Python 3",
   "language": "python",
   "name": "python3"
  },
  "language_info": {
   "codemirror_mode": {
    "name": "ipython",
    "version": 3
   },
   "file_extension": ".py",
   "mimetype": "text/x-python",
   "name": "python",
   "nbconvert_exporter": "python",
   "pygments_lexer": "ipython3",
   "version": "3.6.8"
  },
  "name": "tute_2.ipynb"
 },
 "nbformat": 4,
 "nbformat_minor": 4
}
