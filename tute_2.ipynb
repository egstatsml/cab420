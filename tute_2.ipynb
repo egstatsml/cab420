{
 "cells": [
  {
   "cell_type": "markdown",
   "metadata": {
    "ein.tags": "worksheet-0",
    "slideshow": {
     "slide_type": "-"
    }
   },
   "source": [
    "# Tute 2 - Regualarised Regression"
   ]
  },
  {
   "cell_type": "code",
   "execution_count": 1,
   "metadata": {
    "autoscroll": false,
    "collapsed": false,
    "ein.hycell": false,
    "ein.tags": "worksheet-0",
    "slideshow": {
     "slide_type": "-"
    }
   },
   "outputs": [],
   "source": [
    "# import all the important packages\n",
    "\n",
    "# numpy handles pretty much anything that is a number/vector/matrix/array\n",
    "import numpy as np\n",
    "# pandas handles dataframes (exactly the same as tables in Matlab)\n",
    "import pandas as pd\n",
    "# matplotlib emulates Matlabs plotting functionality\n",
    "import matplotlib.pyplot as plt\n",
    "# stats models is a package that is going to perform the regression analysis\n",
    "from statsmodels import api as sm\n",
    "from scipy import stats\n",
    "from sklearn.metrics import mean_squared_error\n",
    "# os allows us to manipulate variables on out local machine, such as paths and environment variables\n",
    "import os\n",
    "# self explainatory, dates and times\n",
    "from datetime import datetime, date\n",
    "# a helper package to help us iterate over objects\n",
    "import itertools"
   ]
  },
  {
   "cell_type": "code",
   "execution_count": 2,
   "metadata": {
    "autoscroll": false,
    "collapsed": false,
    "ein.hycell": false,
    "ein.tags": "worksheet-0",
    "slideshow": {
     "slide_type": "-"
    }
   },
   "outputs": [
    {
     "name": "stdout",
     "output_type": "stream",
     "text": [
      "   Unnamed: 0  Rainfall amount (millimetres)       Date  \\\n",
      "0         169                            0.0 2014-06-19   \n",
      "1         170                            5.8 2014-06-20   \n",
      "2         171                            0.0 2014-06-21   \n",
      "3         172                            5.2 2014-06-22   \n",
      "4         173                            0.2 2014-06-23   \n",
      "\n",
      "   Maximum temperature (Degree C)  Daily global solar exposure (MJ/m*m)  \\\n",
      "0                            20.3                                   8.0   \n",
      "1                            22.5                                   9.1   \n",
      "2                            25.6                                  12.9   \n",
      "3                            24.2                                  13.0   \n",
      "4                            24.1                                  13.6   \n",
      "\n",
      "   Story Bridge West Pedestrian Inbound  \\\n",
      "0                                   0.0   \n",
      "1                                   0.0   \n",
      "2                                   0.0   \n",
      "3                                   0.0   \n",
      "4                                   0.0   \n",
      "\n",
      "   North Brisbane Bikeway Mann Park Windsor Pedestrian Outbound  \\\n",
      "0                                                0.0              \n",
      "1                                                0.0              \n",
      "2                                                0.0              \n",
      "3                                                0.0              \n",
      "4                                                0.0              \n",
      "\n",
      "   Story Bridge East Pedestrian Outbound  \\\n",
      "0                                    0.0   \n",
      "1                                    0.0   \n",
      "2                                    0.0   \n",
      "3                                    0.0   \n",
      "4                                    0.0   \n",
      "\n",
      "   Bicentennial Bikeway Pedestrians Outbound  \\\n",
      "0                                     1900.0   \n",
      "1                                     1586.0   \n",
      "2                                     1847.0   \n",
      "3                                     2126.0   \n",
      "4                                     2180.0   \n",
      "\n",
      "   Schulz Canal Bridge Cyclists Outbound  ...  \\\n",
      "0                                   55.0  ...   \n",
      "1                                   49.0  ...   \n",
      "2                                   67.0  ...   \n",
      "3                                   76.0  ...   \n",
      "4                                   69.0  ...   \n",
      "\n",
      "   Bicentennial Bikeway Pedestrians Inbound  \\\n",
      "0                                    1630.0   \n",
      "1                                    1170.0   \n",
      "2                                    1289.0   \n",
      "3                                    1542.0   \n",
      "4                                    1862.0   \n",
      "\n",
      "   Story Bridge East Pedestrian Inbound  Bicenntenial Bikeway  \\\n",
      "0                                   0.0                4223.0   \n",
      "1                                   0.0                3619.0   \n",
      "2                                   0.0                4423.0   \n",
      "3                                   0.0                5023.0   \n",
      "4                                   0.0                5329.0   \n",
      "\n",
      "   Story Bridge West Cyclists Inbound  Story Bridge East Cyclists Outbound  \\\n",
      "0                                 0.0                                  0.0   \n",
      "1                                 0.0                                  0.0   \n",
      "2                                 0.0                                  0.0   \n",
      "3                                 0.0                                  0.0   \n",
      "4                                 0.0                                  0.0   \n",
      "\n",
      "   North Brisbane Bikeway Mann Park Windsor Pedestrian Inbound  \\\n",
      "0                                                0.0             \n",
      "1                                                0.0             \n",
      "2                                                0.0             \n",
      "3                                                0.0             \n",
      "4                                                0.0             \n",
      "\n",
      "   Schulz Canal Bridge Pedestrians Outbound  \\\n",
      "0                                      20.0   \n",
      "1                                      20.0   \n",
      "2                                      33.0   \n",
      "3                                      21.0   \n",
      "4                                      24.0   \n",
      "\n",
      "   Story Bridge West Pedestrian Outbound  \\\n",
      "0                                    0.0   \n",
      "1                                    0.0   \n",
      "2                                    0.0   \n",
      "3                                    0.0   \n",
      "4                                    0.0   \n",
      "\n",
      "   North Brisbane Bikeway Mann Park Windsor Cyclists Inbound  Unnamed: 1  \n",
      "0                                                0.0                0:00  \n",
      "1                                                0.0                0:00  \n",
      "2                                                0.0                0:00  \n",
      "3                                                0.0                0:00  \n",
      "4                                                0.0                0:00  \n",
      "\n",
      "[5 rows x 25 columns]\n"
     ]
    }
   ],
   "source": [
    "# loading in the combined data from the previous tute\n",
    "combined_filtered = pd.read_csv('./tute2_data/combined.csv')\n",
    "# make sure the Date column is interpreted correctly as a datetime object\n",
    "combined_filtered.Date = pd.to_datetime(combined_filtered.Date, format='%Y-%m-%d')\n",
    "print(combined_filtered.head())"
   ]
  },
  {
   "cell_type": "code",
   "execution_count": 3,
   "metadata": {
    "autoscroll": false,
    "collapsed": false,
    "ein.hycell": false,
    "ein.tags": "worksheet-0",
    "slideshow": {
     "slide_type": "-"
    }
   },
   "outputs": [
    {
     "name": "stdout",
     "output_type": "stream",
     "text": [
      "num train = 888\n",
      "val train = 276\n",
      "test train = 258\n"
     ]
    }
   ],
   "source": [
    "train = combined_filtered[combined_filtered.Date < datetime(year=2017, month=1, day=1)]\n",
    "val = combined_filtered[((combined_filtered.Date >= datetime(year=2017, month=1, day=1)) &\n",
    "                        (combined_filtered.Date < datetime(year=2018, month=1, day=1)))]\n",
    "test = combined_filtered[((combined_filtered.Date >= datetime(year=2018, month=1, day=1)) &\n",
    "                          (combined_filtered.Date < datetime(year=2019, month=1, day=1)))]\n",
    "print('num train = {}'.format(train.shape[0]))\n",
    "print('val train = {}'.format(val.shape[0]))\n",
    "print('test train = {}'.format(test.shape[0]))"
   ]
  },
  {
   "cell_type": "markdown",
   "metadata": {
    "ein.tags": "worksheet-0",
    "slideshow": {
     "slide_type": "-"
    }
   },
   "source": [
    "#Q1 - Overfitting Linear Regression\n",
    "\n",
    "In the week 1 practical, you developed a model to predict cyclist counts at a single counter. Using the same data and starting from the initial model before terms were remove, overcomplicate it such that it overfits to the training data. The easiest way to do this is by including a large number of higher order (i.e. interaction, quadratic and higher order polynomial) terms. \n",
    "Verify that the model has overfit through evaluating on the validation and testing datasets, and compare it’s performance to the simple model that you started with."
   ]
  },
  {
   "cell_type": "code",
   "execution_count": 4,
   "metadata": {
    "autoscroll": false,
    "collapsed": false,
    "ein.hycell": false,
    "ein.tags": "worksheet-0",
    "slideshow": {
     "slide_type": "-"
    }
   },
   "outputs": [
    {
     "name": "stdout",
     "output_type": "stream",
     "text": [
      "Linear Model RMSE = 623.3791739360698\n",
      "                            OLS Regression Results                            \n",
      "==============================================================================\n",
      "Dep. Variable:                      y   R-squared:                       0.474\n",
      "Model:                            OLS   Adj. R-squared:                  0.469\n",
      "Method:                 Least Squares   F-statistic:                     113.1\n",
      "Date:                Fri, 06 Mar 2020   Prob (F-statistic):          4.59e-118\n",
      "Time:                        10:30:32   Log-Likelihood:                -6899.6\n",
      "No. Observations:                 888   AIC:                         1.382e+04\n",
      "Df Residuals:                     880   BIC:                         1.385e+04\n",
      "Df Model:                           7                                         \n",
      "Covariance Type:            nonrobust                                         \n",
      "==============================================================================\n",
      "                 coef    std err          t      P>|t|      [0.025      0.975]\n",
      "------------------------------------------------------------------------------\n",
      "const        739.2276    142.489      5.188      0.000     459.569    1018.886\n",
      "x1            -2.1218      1.726     -1.230      0.219      -5.509       1.265\n",
      "x2            -5.9035      4.200     -1.406      0.160     -14.146       2.339\n",
      "x3           -34.0164      6.637     -5.125      0.000     -47.042     -20.990\n",
      "x4             6.2318      1.169      5.330      0.000       3.937       8.527\n",
      "x5             1.9407      0.108     17.964      0.000       1.729       2.153\n",
      "x6             1.1847      0.104     11.385      0.000       0.980       1.389\n",
      "x7            -0.4872      0.585     -0.833      0.405      -1.635       0.661\n",
      "==============================================================================\n",
      "Omnibus:                      150.696   Durbin-Watson:                   0.247\n",
      "Prob(Omnibus):                  0.000   Jarque-Bera (JB):              233.912\n",
      "Skew:                          -1.139   Prob(JB):                     1.61e-51\n",
      "Kurtosis:                       4.062   Cond. No.                     3.79e+03\n",
      "==============================================================================\n",
      "\n",
      "Warnings:\n",
      "[1] Standard Errors assume that the covariance matrix of the errors is correctly specified.\n",
      "[2] The condition number is large, 3.79e+03. This might indicate that there are\n",
      "strong multicollinearity or other numerical problems.\n",
      "[ 7.39227580e+02 -2.12180551e+00 -5.90348877e+00 -3.40164060e+01\n",
      "  6.23180686e+00  1.94071221e+00  1.18469111e+00 -4.87249158e-01]\n"
     ]
    },
    {
     "data": {
      "image/png": "[encoded data removed]",
      "text/plain": [
       "<Figure size 576x432 with 1 Axes>"
      ]
     },
     "metadata": {},
     "output_type": "display_data"
    }
   ],
   "source": [
    "# lets start with the model we had from last week\n",
    "# now perform linear regression using Ordinary Least Squares\n",
    "# want to use all weather data from the BOM\n",
    "X_bom = ['Rainfall amount (millimetres)',\n",
    "         'Daily global solar exposure (MJ/m*m)',\n",
    "         'Maximum temperature (Degree C)']\n",
    "# want to use all variables cyclist inbound variables\n",
    "X_bcc = [x for x in train.columns.values if 'Cyclists Inbound' in x]\n",
    "# remove the response variable from here\n",
    "X_bcc.remove('Bicentennial Bikeway Cyclists Inbound')\n",
    "# combine this list of variables together by just extending the\n",
    "# BOM data with the BCC data\n",
    "X_variables_linear = X_bom + X_bcc\n",
    "Y_variable = 'Bicentennial Bikeway Cyclists Inbound'\n",
    "Y_train = np.array(train[Y_variable], dtype=np.float64)\n",
    "X_train = np.array(train[X_variables_linear], dtype=np.float64)\n",
    "# want to add a constant to the model (the y-axis intercept)\n",
    "X_train_constant = sm.add_constant(X_train)\n",
    "# also creating validation data\n",
    "Y_val = np.array(val[Y_variable], dtype=np.float64)\n",
    "X_val = np.array(val[X_variables_linear], dtype=np.float64)\n",
    "X_val_constant = sm.add_constant(X_val)\n",
    "# will create our test data as well, we will need it later on\n",
    "Y_test = np.array(test[Y_variable], dtype=np.float64)\n",
    "X_test = np.array(test[X_variables_linear], dtype=np.float64)\n",
    "# create the linear model\n",
    "model = sm.OLS(Y_train, X_train_constant)\n",
    "# fit the model without any regularisation\n",
    "model_1_fit = model.fit()\n",
    "pred = model_1_fit.predict(X_val_constant)\n",
    "print('Linear Model RMSE = {}'.format(\n",
    "  np.sqrt(mean_squared_error(Y_val, model_1_fit.predict(X_val_constant)))))\n",
    "print(model_1_fit.summary())\n",
    "print(model_1_fit.params)\n",
    "fig, ax = plt.subplots(figsize=(8,6))\n",
    "sm.qqplot(model_1_fit.resid, ax=ax, line='s')\n",
    "plt.title('Q-Q Plot for Linear Regression')\n",
    "plt.show()\n"
   ]
  },
  {
   "cell_type": "markdown",
   "metadata": {
    "ein.tags": "worksheet-0",
    "slideshow": {
     "slide_type": "-"
    }
   },
   "source": [
    "Want to add some quadratic terms to our model."
   ]
  },
  {
   "cell_type": "code",
   "execution_count": 5,
   "metadata": {
    "autoscroll": false,
    "collapsed": false,
    "ein.hycell": false,
    "ein.tags": "worksheet-0",
    "slideshow": {
     "slide_type": "-"
    }
   },
   "outputs": [],
   "source": [
    "def x2fx_quadratic(row, arg_name):\n",
    "  \"\"\"Will create a quadratic version of our variable of interest\n",
    "  \n",
    "  Is intended to be applied to a Pandas dataframe using the `apply()` method.\n",
    "\n",
    "  Similar to the `x2fx()` function in Matlab.\n",
    "\n",
    "  Args:\n",
    "    row (pd.Series):\n",
    "      row in the original pandas dataframe we are applying the function to\n",
    "    args_name (str):\n",
    "      column name to to which we are indexing from the original dataframe\n",
    "    \n",
    "  Returns:\n",
    "    A pandas Series which will contain row[arg_name] ^ 2\n",
    "  \"\"\"\n",
    "  return np.square(row[arg_name])\n",
    "\n",
    "\n",
    "def x2fx(x, model='quadratic'):\n",
    "  from itertools import combinations as comb\n",
    "  linear = np.c_[np.ones(x.shape[0]), x]\n",
    "  if model == 'linear':\n",
    "    return linear\n",
    "  if model == 'purequadratic':\n",
    "    return np.c_[linear, x**2]\n",
    "\n",
    "  interaction = np.vstack([x[:,i]*x[:,j] for i, j in\n",
    "                           comb(range(x.shape[1]), 2)]).T\n",
    "  print(interaction.shape)\n",
    "  if model == 'interaction':\n",
    "    return np.c_[linear, interaction]\n",
    "  if model == 'quadratic':\n",
    "    return np.c_[linear, interaction, x**2]\n",
    "  "
   ]
  },
  {
   "cell_type": "code",
   "execution_count": 6,
   "metadata": {
    "autoscroll": false,
    "collapsed": false,
    "ein.hycell": false,
    "ein.tags": "worksheet-0",
    "slideshow": {
     "slide_type": "-"
    }
   },
   "outputs": [
    {
     "name": "stdout",
     "output_type": "stream",
     "text": [
      "(888, 7)\n",
      "(888, 21)\n",
      "(276, 21)\n",
      "(258, 21)\n",
      "(888, 7)\n",
      "(276, 7)\n"
     ]
    }
   ],
   "source": [
    "print(X_train.shape)\n",
    "X_train_complex = x2fx(X_train)\n",
    "X_val_complex = x2fx(X_val)\n",
    "X_test_complex = x2fx(X_test)\n",
    "print(X_train.shape)\n",
    "print(X_val.shape)"
   ]
  },
  {
   "cell_type": "code",
   "execution_count": 6,
   "metadata": {
    "autoscroll": false,
    "collapsed": false,
    "ein.hycell": false,
    "ein.tags": "worksheet-0",
    "slideshow": {
     "slide_type": "-"
    }
   },
   "outputs": [],
   "source": []
  },
  {
   "cell_type": "code",
   "execution_count": 7,
   "metadata": {
    "autoscroll": false,
    "collapsed": false,
    "ein.hycell": false,
    "ein.tags": "worksheet-0",
    "slideshow": {
     "slide_type": "-"
    }
   },
   "outputs": [
    {
     "name": "stdout",
     "output_type": "stream",
     "text": [
      "Model 2: Quadratic Variables RMSE = 615.3093712679646\n"
     ]
    },
    {
     "name": "stdout",
     "output_type": "stream",
     "text": [
      "                                 OLS Regression Results                                \n",
      "=======================================================================================\n",
      "Dep. Variable:                      y   R-squared (uncentered):                   0.827\n",
      "Model:                            OLS   Adj. R-squared (uncentered):              0.825\n",
      "Method:                 Least Squares   F-statistic:                              599.9\n",
      "Date:                Fri, 06 Mar 2020   Prob (F-statistic):                        0.00\n",
      "Time:                        10:30:32   Log-Likelihood:                         -6913.0\n",
      "No. Observations:                 888   AIC:                                  1.384e+04\n",
      "Df Residuals:                     881   BIC:                                  1.387e+04\n",
      "Df Model:                           7                                                  \n",
      "Covariance Type:            nonrobust                                                  \n",
      "==============================================================================\n",
      "                 coef    std err          t      P>|t|      [0.025      0.975]\n",
      "------------------------------------------------------------------------------\n",
      "x1            -1.4632      1.746     -0.838      0.402      -4.890       1.964\n",
      "x2           -13.3351      4.005     -3.329      0.001     -21.196      -5.474\n",
      "x3            -5.3523      3.731     -1.435      0.152     -12.675       1.970\n",
      "x4             7.2708      1.169      6.221      0.000       4.977       9.565\n",
      "x5             1.9144      0.109     17.485      0.000       1.700       2.129\n",
      "x6             1.1551      0.105     10.957      0.000       0.948       1.362\n",
      "x7            -0.2246      0.591     -0.380      0.704      -1.385       0.936\n",
      "==============================================================================\n",
      "Omnibus:                      163.736   Durbin-Watson:                   0.243\n",
      "Prob(Omnibus):                  0.000   Jarque-Bera (JB):              263.943\n",
      "Skew:                          -1.204   Prob(JB):                     4.85e-58\n",
      "Kurtosis:                       4.156   Cond. No.                         125.\n",
      "==============================================================================\n",
      "\n",
      "Warnings:\n",
      "[1] Standard Errors assume that the covariance matrix of the errors is correctly specified.\n",
      "[ -1.46317938 -13.33514314  -5.35228511   7.27082109   1.91440342\n",
      "   1.15510485  -0.22458814]\n"
     ]
    },
    {
     "data": {
      "image/png": "[encoded data removed]",
      "text/plain": [
       "<Figure size 576x432 with 1 Axes>"
      ]
     },
     "metadata": {},
     "output_type": "display_data"
    }
   ],
   "source": [
    "model = sm.OLS(Y_train, X_train)\n",
    "# fit the model without any regularisation\n",
    "model_2_fit = model.fit()\n",
    "pred = model_2_fit.predict(X_val)\n",
    "print('Model 2: Quadratic Variables RMSE = {}'.format(\n",
    "  np.sqrt(mean_squared_error(Y_val, model_2_fit.predict(X_val)))))\n",
    "print(model_2_fit.summary())\n",
    "print(model_2_fit.params)\n",
    "fig, ax = plt.subplots(figsize=(8,6))\n",
    "sm.qqplot(model_2_fit.resid, ax=ax, line='s')\n",
    "plt.title('Q-Q Plot for Model 2: Quadratic Variables')\n",
    "plt.show()\n"
   ]
  },
  {
   "cell_type": "markdown",
   "metadata": {
    "ein.tags": "worksheet-0",
    "slideshow": {
     "slide_type": "-"
    }
   },
   "source": [
    "## Standardise data set "
   ]
  },
  {
   "cell_type": "code",
   "execution_count": 8,
   "metadata": {
    "autoscroll": false,
    "collapsed": false,
    "ein.hycell": false,
    "ein.tags": "worksheet-0",
    "slideshow": {
     "slide_type": "-"
    }
   },
   "outputs": [],
   "source": [
    "def standardise(data):\n",
    "  \"\"\" Standardise/Normalise data to have zero mean and unit variance\n",
    "\n",
    "  Args:\n",
    "    data (np.array):\n",
    "      data we want to standardise (usually covariates)\n",
    "\n",
    "    Returns:\n",
    "      Standardised data, mean of data, standard deviation of data\n",
    "  \"\"\"\n",
    "  mu = np.mean(data)\n",
    "  sigma = np.std(data)\n",
    "  scaled = (data - mu) / sigma\n",
    "  return scaled, mu, sigma"
   ]
  },
  {
   "cell_type": "markdown",
   "metadata": {
    "ein.tags": "worksheet-0",
    "slideshow": {
     "slide_type": "-"
    }
   },
   "source": [
    "Now will normalise the training data set, and will use mean and standard deviation of the training data to standardisse the validation and test data"
   ]
  },
  {
   "cell_type": "code",
   "execution_count": 9,
   "metadata": {
    "autoscroll": false,
    "collapsed": false,
    "ein.hycell": false,
    "ein.tags": "worksheet-0",
    "slideshow": {
     "slide_type": "-"
    }
   },
   "outputs": [],
   "source": [
    "X_train_std, mu_train, sigma_train = standardise(X_train)\n",
    "Y_train_std, mu_test, sigma_test = standardise(Y_train)\n",
    "X_val_std = (X_val - mu_train)/sigma_train\n",
    "Y_val_std = (Y_val - mu_test)/sigma_test\n",
    "X_test_std = (X_test - mu_train)/sigma_train\n",
    "Y_test_std = (Y_test - mu_test)/sigma_test\n",
    "\n",
    "X_train_complex_std, mu_train_complex, sigma_train_complex = standardise(X_train_complex)\n",
    "X_val_complex_std = (X_val_complex - mu_train_complex)/sigma_train_complex\n",
    "X_test_complex_std = (X_test_complex - mu_train_complex)/sigma_train_complex"
   ]
  },
  {
   "cell_type": "code",
   "execution_count": 10,
   "metadata": {
    "autoscroll": false,
    "collapsed": false,
    "ein.hycell": false,
    "ein.tags": "worksheet-0",
    "slideshow": {
     "slide_type": "-"
    }
   },
   "outputs": [
    {
     "name": "stdout",
     "output_type": "stream",
     "text": [
      "Model 3: L1 RMSE = 620.2903612480512\n",
      "[ -1.41911608 -15.84494336  -4.83940332   7.48862925   1.9102867\n",
      "   1.16268124  -0.12017558]\n"
     ]
    },
    {
     "data": {
      "image/png": "[encoded data removed]",
      "text/plain": [
       "<Figure size 576x432 with 1 Axes>"
      ]
     },
     "metadata": {},
     "output_type": "display_data"
    }
   ],
   "source": [
    "# quick test with normalised regression\n",
    "model_3 = sm.OLS(Y_train, X_train)\n",
    "\n",
    "model_3_fit = model_3.fit_regularized(alpha=1.0, L1_wt=1)\n",
    "# to get L1 regression, need to set the L1_wt flag to 1 in the fit_regularzed method\n",
    "pred = model_3_fit.predict(X_val)\n",
    "print('Model 3: L1 RMSE = {}'.format(\n",
    "  np.sqrt(mean_squared_error(Y_val, model_3_fit.predict(X_val)))))\n",
    "print(model_3_fit.params)\n",
    "fig, ax = plt.subplots(figsize=(8,6))\n",
    "sm.qqplot(model_2_fit.resid, ax=ax, line='s')\n",
    "plt.title('Q-Q Plot for Model 3: Lasso')\n",
    "plt.show()\n"
   ]
  },
  {
   "cell_type": "code",
   "execution_count": 11,
   "metadata": {
    "autoscroll": false,
    "collapsed": false,
    "ein.hycell": false,
    "ein.tags": "worksheet-0",
    "slideshow": {
     "slide_type": "-"
    }
   },
   "outputs": [
    {
     "name": "stdout",
     "output_type": "stream",
     "text": [
      "Model 3: L2 RMSE = 614.3121609428285\n",
      "[ -1.47047376 -12.88322479  -5.37320333   7.18088458   1.91603196\n",
      "   1.15566736  -0.23142138]\n"
     ]
    },
    {
     "data": {
      "image/png": "[encoded data removed]",
      "text/plain": [
       "<Figure size 576x432 with 1 Axes>"
      ]
     },
     "metadata": {},
     "output_type": "display_data"
    }
   ],
   "source": [
    "# L2 Regression\n",
    "model_3_fit = model_3.fit_regularized(alpha=1.0, L1_wt=0)\n",
    "# to get L1 regression, need to set the L1_wt flag to 1 in the fit_regularzed method\n",
    "pred = model_3_fit.predict(X_val)\n",
    "print('Model 3: L2 RMSE = {}'.format(\n",
    "  np.sqrt(mean_squared_error(Y_val, model_3_fit.predict(X_val)))))\n",
    "print(model_3_fit.params)\n",
    "fig, ax = plt.subplots(figsize=(8,6))\n",
    "sm.qqplot(model_2_fit.resid, ax=ax, line='s')\n",
    "plt.title('Q-Q Plot for Model 3: Lasso')\n",
    "plt.show()"
   ]
  },
  {
   "cell_type": "code",
   "execution_count": 12,
   "metadata": {
    "autoscroll": false,
    "collapsed": false,
    "ein.hycell": false,
    "ein.tags": "worksheet-0",
    "slideshow": {
     "slide_type": "-"
    }
   },
   "outputs": [],
   "source": [
    "def rSquared(actual, predicted):\n",
    "  sst = np.var(actual) * actual.size;\n",
    "  sse = np.sum((actual - predicted)**2);\n",
    "  r2 = 1 - sse/sst;\n",
    "  return r2"
   ]
  },
  {
   "cell_type": "code",
   "execution_count": 13,
   "metadata": {
    "autoscroll": false,
    "collapsed": false,
    "ein.hycell": false,
    "ein.tags": "worksheet-0",
    "slideshow": {
     "slide_type": "-"
    }
   },
   "outputs": [],
   "source": [
    "def adj_r2(actual, predicted, n, p):\n",
    "  sst = np.var(actual)* np.size(actual)\n",
    "  sse = np.sum((actual - predicted)**2)\n",
    "  adjr2 = 1 - ((n - 1)/(n - p - 1))*(sse/sst);\n",
    "  return adjr2"
   ]
  },
  {
   "cell_type": "code",
   "execution_count": 13,
   "metadata": {
    "autoscroll": false,
    "collapsed": false,
    "ein.hycell": false,
    "ein.tags": "worksheet-0",
    "slideshow": {
     "slide_type": "-"
    }
   },
   "outputs": [],
   "source": []
  }
 ],
 "metadata": {
  "kernelspec": {
   "argv": [
    "python",
    "-m",
    "ipykernel_launcher",
    "-f",
    "{connection_file}"
   ],
   "display_name": "Python 3",
   "env": null,
   "interrupt_mode": "signal",
   "language": "python",
   "metadata": null,
   "name": "python3"
  },
  "name": "tute_2.ipynb"
 },
 "nbformat": 4,
 "nbformat_minor": 4
}
